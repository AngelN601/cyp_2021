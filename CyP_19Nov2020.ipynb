{
  "nbformat": 4,
  "nbformat_minor": 0,
  "metadata": {
    "colab": {
      "name": "CyP_19Nov2020.ipynb",
      "provenance": [],
      "authorship_tag": "ABX9TyOl1tJipuX7OKZjI6s6RsP0",
      "include_colab_link": true
    },
    "kernelspec": {
      "name": "python3",
      "display_name": "Python 3"
    }
  },
  "cells": [
    {
      "cell_type": "markdown",
      "metadata": {
        "id": "view-in-github",
        "colab_type": "text"
      },
      "source": [
        "<a href=\"https://colab.research.google.com/github/AngelN601/cyp_2021/blob/main/CyP_19Nov2020.ipynb\" target=\"_parent\"><img src=\"https://colab.research.google.com/assets/colab-badge.svg\" alt=\"Open In Colab\"/></a>"
      ]
    },
    {
      "cell_type": "code",
      "metadata": {
        "colab": {
          "base_uri": "https://localhost:8080/"
        },
        "id": "-enFM-rLg-_N",
        "outputId": "799a0382-a5fa-4499-ebee-d86a3c4793a1"
      },
      "source": [
        "# Concepto de asignacion\n",
        "I = 0\n",
        "I = I + 1\n",
        "I = I + 1\n",
        "print(f\"I = { I } \")\n",
        "J = 5 ** 2 / 3\n",
        "print(f\"J = { J }\")"
      ],
      "execution_count": 4,
      "outputs": [
        {
          "output_type": "stream",
          "text": [
            "I = 2 \n",
            "J = 8.333333333333334\n"
          ],
          "name": "stdout"
        }
      ]
    },
    {
      "cell_type": "code",
      "metadata": {
        "colab": {
          "base_uri": "https://localhost:8080/"
        },
        "id": "gtGoXkUVmxbG",
        "outputId": "9a0b5a48-115c-4471-dc1d-d24308ab31b6"
      },
      "source": [
        "# Declaracion de valores (reservando memoria)\n",
        "A = 0\n",
        "B = 0\n",
        "C = 0\n",
        "D = 0\n",
        "\n",
        "A = int(input(\"Dame un valor entero:\"))\n",
        "B = int(input(\"Dame un valor entero:\"))\n",
        "C = int(input(\"Dame un valor entero:\"))\n",
        "D = int(input(\"Dame un valor entero:\"))\n",
        "\n",
        "print(D)\n",
        "print(C)\n",
        "print(B)\n",
        "print(A)\n"
      ],
      "execution_count": 6,
      "outputs": [
        {
          "output_type": "stream",
          "text": [
            "Dame un valor entero:10\n",
            "Dame un valor entero:20\n",
            "Dame un valor entero:30\n",
            "Dame un valor entero:40\n",
            "40\n",
            "30\n",
            "20\n",
            "10\n"
          ],
          "name": "stdout"
        }
      ]
    },
    {
      "cell_type": "code",
      "metadata": {
        "colab": {
          "base_uri": "https://localhost:8080/"
        },
        "id": "yusBn5FipXfj",
        "outputId": "8e19a25c-b3a6-41e5-ec24-3f6ac741b3a0"
      },
      "source": [
        "# ejemplo 1.7\n",
        "A = 0\n",
        "B = 0\n",
        "RES = 0\n",
        "\n",
        "A = int( input(\" dame un entero:\") )\n",
        "B = int( input(\" dame otro entero:\") )\n",
        "RES = (A + B)** 2 / 3\n",
        "print(RES)"
      ],
      "execution_count": 10,
      "outputs": [
        {
          "output_type": "stream",
          "text": [
            " dame un entero:14\n",
            " dame otro entero:-5\n",
            "27.0\n"
          ],
          "name": "stdout"
        }
      ]
    },
    {
      "cell_type": "code",
      "metadata": {
        "colab": {
          "base_uri": "https://localhost:8080/"
        },
        "id": "ocm3WX3UuOla",
        "outputId": "5898796e-45a9-46db-a14e-7d9168010821"
      },
      "source": [
        "# ejemplo 1.8\n",
        "Cal1 = 0\n",
        "Cal2 = 0\n",
        "Cal3 = 0\n",
        "Cal4 = 0\n",
        "Cal5 = 0\n",
        "Pro = 0\n",
        "Mat = 0\n",
        "\n",
        "Mat = int( input(\"Tu matricula\") )\n",
        "Cal1 = float( input(\" Dame una calificacion \"))\n",
        "Cal2 = float( input(\" Dame una calificacion \"))\n",
        "Cal3 = float( input(\" Dame una calificacion \"))\n",
        "Cal4 = float( input(\" Dame una calificacion \"))\n",
        "Cal5 = float( input(\" Dame una calificacion \"))\n",
        "\n",
        "Pro = (Cal1 + Cal2 + Cal3 + Cal4 + Cal5) / 5\n",
        "\n",
        "print(Mat, Pro)"
      ],
      "execution_count": 23,
      "outputs": [
        {
          "output_type": "stream",
          "text": [
            "Tu matricula18240\n",
            " Dame una calificacion 7.3\n",
            " Dame una calificacion 6.8\n",
            " Dame una calificacion 9.5\n",
            " Dame una calificacion 8\n",
            " Dame una calificacion 8.5\n",
            "18240 8.02\n"
          ],
          "name": "stdout"
        }
      ]
    },
    {
      "cell_type": "code",
      "metadata": {
        "colab": {
          "base_uri": "https://localhost:8080/"
        },
        "id": "yhj3KiYEyBDr",
        "outputId": "3c5b4cad-baf6-4590-afd8-563f93f74a28"
      },
      "source": [
        "#Ejemplo 1.9\n",
        "Num = 0\n",
        "Cua = 0\n",
        "Cub = 0\n",
        "\n",
        "Num = int( input(\"Que numero\"))\n",
        "Cua = Num**2\n",
        "Cub = Num**3\n",
        "\n",
        "print(Cua, Cub)"
      ],
      "execution_count": 29,
      "outputs": [
        {
          "output_type": "stream",
          "text": [
            "Que numero7\n",
            "49 343\n"
          ],
          "name": "stdout"
        }
      ]
    },
    {
      "cell_type": "code",
      "metadata": {
        "colab": {
          "base_uri": "https://localhost:8080/"
        },
        "id": "IYCBoybX0HxK",
        "outputId": "e62f320c-8749-4dc8-aa0f-0606b331a604"
      },
      "source": [
        "# Ejemplo 1.10\n",
        "Base = 0\n",
        "Altura = 0\n",
        "Perimetro = 0\n",
        "Area = 0\n",
        "\n",
        "Base = int( input(\"Cual es la base? \") )\n",
        "Altura = int( input(\"Cual es la altura? \" ) )\n",
        "Area = Base * Altura\n",
        "Perimetro = (Base * 2) + (Altura * 2)\n",
        "\n",
        "print(f\"El perimetro es \", Perimetro, \"u\")\n",
        "print(f\" El area es \", Area, \"u²\" )\n"
      ],
      "execution_count": 44,
      "outputs": [
        {
          "output_type": "stream",
          "text": [
            "Cual es la base? 9\n",
            "Cual es la altura? 5\n",
            "El perimetro es  28 u\n",
            " El area es  45 u²\n"
          ],
          "name": "stdout"
        }
      ]
    }
  ]
}