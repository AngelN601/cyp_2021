{
  "nbformat": 4,
  "nbformat_minor": 0,
  "metadata": {
    "colab": {
      "name": "CyP_28Ene2021.ipynb",
      "provenance": [],
      "authorship_tag": "ABX9TyMafbwt8ld+oiCo72u1+cwr",
      "include_colab_link": true
    },
    "kernelspec": {
      "name": "python3",
      "display_name": "Python 3"
    }
  },
  "cells": [
    {
      "cell_type": "markdown",
      "metadata": {
        "id": "view-in-github",
        "colab_type": "text"
      },
      "source": [
        "<a href=\"https://colab.research.google.com/github/AngelN601/cyp_2021/blob/main/CyP_28Ene2021.ipynb\" target=\"_parent\"><img src=\"https://colab.research.google.com/assets/colab-badge.svg\" alt=\"Open In Colab\"/></a>"
      ]
    },
    {
      "cell_type": "markdown",
      "metadata": {
        "id": "W6oHCd_3BjU-"
      },
      "source": [
        "#Tuplas\r\n",
        "\r\n",
        "- Tipo de dato lineal, estructura  de datos. \r\n",
        "- No mutable.\r\n",
        "- Puede contener de 0 a n elementos.\r\n",
        "- Se declara con '(' y ')'\r\n",
        "- No puedes agregar ni eliminar elementos.\r\n",
        "- Peden ser anidadas.\r\n",
        "- Los argumentos a una funcion son enviadas como tuplas.\r\n"
      ]
    },
    {
      "cell_type": "code",
      "metadata": {
        "colab": {
          "base_uri": "https://localhost:8080/"
        },
        "id": "pvcEVFoOCcoH",
        "outputId": "d4f76e67-7ebe-4097-9dbe-04e6cb44f88c"
      },
      "source": [
        "frutas = ('Sandías', 'Melón', 'Limón','Mango')\r\n",
        "print(frutas)\r\n",
        "print(frutas[1:3:1])\r\n",
        "print(frutas.count('Melón'))\r\n",
        "\r\n",
        "# Son inmutables\r\n",
        "#frutas[1] = \"manzana\"\r\n",
        "\r\n",
        "#Pa que se usan?\r\n",
        "conexion = ('132.248.12.12' , 2206, 'cyp_bd' , 'usr_test', '1234dios')\r\n",
        "print(f\"usuario:{ conexion[3] } y pasword:{conexion[4] }\")"
      ],
      "execution_count": 8,
      "outputs": [
        {
          "output_type": "stream",
          "text": [
            "('Sandías', 'Melón', 'Limón', 'Mango')\n",
            "('Melón', 'Limón')\n",
            "1\n",
            "usuario:usr_test y pasword:1234dios\n"
          ],
          "name": "stdout"
        }
      ]
    },
    {
      "cell_type": "markdown",
      "metadata": {
        "id": "7OuP31jHFvQO"
      },
      "source": [
        "#Diccionarios\r\n",
        "- Estructura semi lineal.\r\n",
        "- Formada por pares, llave-valor.\r\n",
        "- Equivalentes al tipo de dato JSON, de el lenguaje JavaScript.\r\n",
        "- Utiliza organización por función de dispersión.\r\n",
        "- Se declara con los elementos '{' y '}'\r\n",
        "- El selector usa valores de tipo string (llave)\r\n",
        "- No se puede seleccionar por offset [1]\r\n",
        "- Son mutables"
      ]
    },
    {
      "cell_type": "code",
      "metadata": {
        "colab": {
          "base_uri": "https://localhost:8080/"
        },
        "id": "MI2LlB_2G4qm",
        "outputId": "c6bd8588-4489-4a4f-a9bb-92c0e3233dd8"
      },
      "source": [
        "alumno = { 'nombre' : 'Juan Pérez' , 'edad' : 18}\r\n",
        "print(alumno)\r\n",
        "print(alumno['nombre'] )"
      ],
      "execution_count": 11,
      "outputs": [
        {
          "output_type": "stream",
          "text": [
            "{'nombre': 'Juan Pérez', 'edad': 18}\n",
            "Juan Pérez\n"
          ],
          "name": "stdout"
        }
      ]
    },
    {
      "cell_type": "code",
      "metadata": {
        "colab": {
          "base_uri": "https://localhost:8080/"
        },
        "id": "YxCs5PSiMo4v",
        "outputId": "4327f7d1-df08-40bb-f4d6-06e432ee9dd6"
      },
      "source": [
        "alumno = {\"Matricula\" : (123456789), \"Nombre\" : \"Angel\", \"Apellido\" : \"Gonzalez\", \"Edad\" : 20, \"Escuela\" : \"FES Aragon\"}\r\n",
        "print(alumno[\"Matricula\"])"
      ],
      "execution_count": 13,
      "outputs": [
        {
          "output_type": "stream",
          "text": [
            "123456789\n"
          ],
          "name": "stdout"
        }
      ]
    },
    {
      "cell_type": "code",
      "metadata": {
        "colab": {
          "base_uri": "https://localhost:8080/"
        },
        "id": "18CpzkJ2SSf2",
        "outputId": "1306ad0a-5a48-4919-8b7f-f8a3fcf20385"
      },
      "source": [
        "alumno = { 'nombre' : 'Juan Pérez', 'edad' : 18, 'Matricula': 312193, 'calificaciones' : ['Mate: 8', 'ciencias: 9', 'ingles: 8'], 'aprovado' : True }\r\n",
        "print(alumno)\r\n",
        "print(alumno['nombre'])\r\n",
        "print(alumno['calificaciones'])\r\n",
        "print(alumno['nombre'].upper())"
      ],
      "execution_count": 14,
      "outputs": [
        {
          "output_type": "stream",
          "text": [
            "{'nombre': 'Juan Pérez', 'edad': 18, 'Matricula': 312193, 'calificaciones': ['Mate: 8', 'ciencias: 9', 'ingles: 8'], 'aprovado': True}\n",
            "Juan Pérez\n",
            "['Mate: 8', 'ciencias: 9', 'ingles: 8']\n",
            "JUAN PÉREZ\n"
          ],
          "name": "stdout"
        }
      ]
    },
    {
      "cell_type": "markdown",
      "metadata": {
        "id": "g1wcCwepVuwO"
      },
      "source": [
        "# Manipulación de los pares llave valor.\r\n",
        "Para ello se emplean los métodos:\r\n",
        "- keys() Te regresa una tupla con los strings llave del diccionario.\r\n",
        "- values() Te regresa solo valores.\r\n",
        "- items() Te regresa los pares."
      ]
    },
    {
      "cell_type": "code",
      "metadata": {
        "colab": {
          "base_uri": "https://localhost:8080/"
        },
        "id": "XWeW_WbYZUiu",
        "outputId": "b7aa6cfa-54fa-46c9-dc0b-dcc59acea817"
      },
      "source": [
        "#  kareli\r\n",
        "alumno = {    'nombre'  : 'Juan Pérez'  ,\r\n",
        "          'edad' : 18, \r\n",
        "          'Matricula': 312193,\r\n",
        "          'calificaciones' : {'Mate': 8 , 'ciencias': 9, 'ingles': 8 },\r\n",
        "          'aprovado' : True,\r\n",
        "          'direccion': {\r\n",
        "                        'calle':'Rancho seco',\r\n",
        "                        'numero': 's/n',\r\n",
        "                        'colonia': 'impulsora popular avicola',\r\n",
        "                        'municipio': 'Mi-nezota',\r\n",
        "                        'estado':{\r\n",
        "                                   'clave':15,\r\n",
        "                                   'nombre_clave':'MEX',\r\n",
        "                                   'nombre':\"Estado de México\"\r\n",
        "                                  }\r\n",
        "                       }\r\n",
        "          }\r\n",
        "print(alumno)\r\n",
        "print(alumno['nombre'])\r\n",
        "print(alumno['calificaciones'])\r\n",
        "print(alumno['nombre'].upper())"
      ],
      "execution_count": 26,
      "outputs": [
        {
          "output_type": "stream",
          "text": [
            "{'nombre': 'Juan Pérez', 'edad': 18, 'Matricula': 312193, 'calificaciones': {'Mate': 8, 'ciencias': 9, 'ingles': 8}, 'aprovado': True, 'direccion': {'calle': 'Rancho seco', 'numero': 's/n', 'colonia': 'impulsora popular avicola', 'municipio': 'Mi-nezota', 'estado': {'clave': 15, 'nombre_clave': 'MEX', 'nombre': 'Estado de México'}}}\n",
            "Juan Pérez\n",
            "{'Mate': 8, 'ciencias': 9, 'ingles': 8}\n",
            "JUAN PÉREZ\n"
          ],
          "name": "stdout"
        }
      ]
    },
    {
      "cell_type": "code",
      "metadata": {
        "id": "1CBDOU-jWf-X"
      },
      "source": [
        "alumno = { 'nombre' : 'Juan Pérez', 'edad' : 18, 'Matricula': 312193, 'calificaciones' : ['Mate: 8', 'ciencias: 9', 'ingles: 8'], 'aprovado' : True }\r\n",
        "print(alumno)\r\n",
        "llaves = alumno.keys()\r\n",
        "print( llaves )\r\n",
        "for elem in llaves:\r\n",
        "  print( elem )\r\n",
        "  print( alumno [elem]\r\n",
        "#manipular valores\r\n",
        "valores= alumno.values()\r\n",
        "print(valores)\r\n",
        "for val in vallores:\r\n",
        "  print(val)\r\n",
        "#manipular pares\r\n",
        "pares = alumno.items()\r\n",
        "print(pares)\r\n",
        "for par in pares:\r\n",
        "print(par)"
      ],
      "execution_count": null,
      "outputs": []
    }
  ]
}