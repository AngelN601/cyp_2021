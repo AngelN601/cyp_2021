{
  "nbformat": 4,
  "nbformat_minor": 0,
  "metadata": {
    "colab": {
      "name": "CyP_01Dic2020.ipynb",
      "provenance": [],
      "authorship_tag": "ABX9TyMPvy8X+JH+MpcehMnr+9Im",
      "include_colab_link": true
    },
    "kernelspec": {
      "name": "python3",
      "display_name": "Python 3"
    }
  },
  "cells": [
    {
      "cell_type": "markdown",
      "metadata": {
        "id": "view-in-github",
        "colab_type": "text"
      },
      "source": [
        "<a href=\"https://colab.research.google.com/github/AngelN601/cyp_2021/blob/main/CyP_01Dic2020.ipynb\" target=\"_parent\"><img src=\"https://colab.research.google.com/assets/colab-badge.svg\" alt=\"Open In Colab\"/></a>"
      ]
    },
    {
      "cell_type": "code",
      "metadata": {
        "colab": {
          "base_uri": "https://localhost:8080/"
        },
        "id": "7BwcpXyLS5NK",
        "outputId": "bfdbaf07-0c0e-4270-9d20-e6d71622dcb2"
      },
      "source": [
        "#Ejemplo 1\n",
        "#Pedir 3 numeros enteros y mostrar el mayor de los 3\n",
        "numero1 = int (input(\"Introduce el primer numero: \"))\n",
        "numero2 = int (input(\"Introduce el segundo numero: \"))\n",
        "numero3 = int (input(\"Introduce el tercer numero: \"))\n",
        "\n",
        "if numero1 >= numero2 and numero1 >= numero3:\n",
        "  print(numero1, \"es mayor\")\n",
        "\n",
        "elif numero2 >= numero1 and numero2 >= numero3:\n",
        "  print(numero2, \"es el mayor\")"
      ],
      "execution_count": 12,
      "outputs": [
        {
          "output_type": "stream",
          "text": [
            "Introduce el primer numero: 9\n",
            "Introduce el segundo numero: 3\n",
            "Introduce el tercer numero: 4\n",
            "9 es mayor\n"
          ],
          "name": "stdout"
        }
      ]
    },
    {
      "cell_type": "code",
      "metadata": {
        "colab": {
          "base_uri": "https://localhost:8080/"
        },
        "id": "A_h69QbPZZTy",
        "outputId": "28923024-d285-45e6-d482-1bb50f6980c2"
      },
      "source": [
        "#Ejemplo 2\n",
        "print(\"Ingrese el nombre del trabajador\")\n",
        "nombre=str (input())\n",
        "print(\"¿Cuantas horas trabajo esta semana?\",nombre,\":\" )\n",
        "horas=int (input())\n",
        "print(\"¿Cuanto se le paga por hora?:\")\n",
        "sueldoH= float (input())\n",
        "\n",
        "#Evaluar su sueldo\n",
        "\n",
        "if (horas<=40):\n",
        "  pago = horas*sueldoH\n",
        "  print(nombre,\"Su pago total es de $\",pago)\n",
        "\n",
        "else:\n",
        "  extras = horas - 40\n",
        "  pago = 40*sueldoH\n",
        "  pagoFinal = pago + ((extras * sueldoH)*2)\n",
        "  print(nombre,\"Su pago total es de $\",pagoFinal)"
      ],
      "execution_count": 18,
      "outputs": [
        {
          "output_type": "stream",
          "text": [
            "Ingrese el nombre del trabajador\n",
            "Angel\n",
            "¿Cuantas horas trabajo esta semana? Angel :\n",
            "50\n",
            "¿Cuanto se le paga por hora?:\n",
            "20\n",
            "Angel Su pago total es de $ 1200.0\n"
          ],
          "name": "stdout"
        }
      ]
    },
    {
      "cell_type": "code",
      "metadata": {
        "colab": {
          "base_uri": "https://localhost:8080/"
        },
        "id": "ZItmMPJqZvQS",
        "outputId": "64a56a1f-f7be-4358-a34c-a78f5e4b0112"
      },
      "source": [
        "#Ejemplo 3\n",
        "#Calcular el salario semanal de x trabajador\n",
        "#El salario semanal se calcula en base a las horas semanales trabajadas\n",
        "#El pago por hora es variable (se pide por teclado)\n",
        "#Si las horas trabajadas superan las 40 horas, el pago por hora extra es:\n",
        "#Doble en el rango de 41horas a 50horas\n",
        "#Triple en el rango de 51horas a 60 horas\n",
        "#Incentivo de $2000 si rebasa las 60 horas.\n",
        "print(\"Ingrese el Nombre del Empleado\")\n",
        "nombre = input()\n",
        "print(\"Cuantas horas trabajo esta semana?\", nombre, \":\")\n",
        "horas = input()\n",
        "horas = int(horas)\n",
        "print(\"Cuanto se paga por hora? : \")\n",
        "sueldoH = input()\n",
        "sueldoH = float (sueldoH)\n",
        "\n",
        "#Evaluar el sueldo\n",
        "\n",
        "if (horas <= 40):\n",
        "  pago = horas * sueldoH\n",
        "  print(\"El sueldo Final de : \", nombre, \"Es $\", pago)\n",
        "\n",
        "elif (horas > 40 and horas <= 50):\n",
        "  extrasDobles = horas -40\n",
        "  print(\"Horas extra dobles:\", extrasDobles)\n",
        "  pago = 40 * sueldoH\n",
        "  print(\"sueldo base : $\", pago)\n",
        "  pagoDoble = extrasDobles * sueldoH * 2\n",
        "  print(\"pago de horas dobles: $\", pagoDoble)\n",
        "  pagoFinal = pago + pagoDoble\n",
        "  print(\"El sueldo final de : \", nombre, \"Es de $\", pagoFinal)\n",
        "\n",
        "elif (horas > 50 and horas <= 60):\n",
        "  extrasTriple = horas - 50\n",
        "  print(\"horas extra doble: 10\")\n",
        "  print(\"horas extra triples:\", extrasTriple)\n",
        "  pago = 40 * sueldoH\n",
        "  print(\"sueldo base: $\", pago)\n",
        "  pagoDoble = 10 * sueldoH * 2\n",
        "  print(\"pago de horas extras dobles:\", pagoDoble)\n",
        "  pagoTriple = extrasTriple * sueldoH * 3\n",
        "  print(\"pago de horas extra triples:\", pagoTriple)\n",
        "  pagoFinal = pago + pagoDoble + pagoTriple\n",
        "  print(\"El sueldo final de : \", nombre, \"Es de $\", pagoFinal)\n",
        "\n",
        "else:\n",
        "  extrasTriple= 10\n",
        "  print(\"Horas extra dobles 10\")\n",
        "  print(\"horas extra triples 10\")\n",
        "  pago = 40 * sueldoH\n",
        "  print(\"Sueldo Base :$\", pago)\n",
        "  pagoDoble = 10 * sueldoH*2\n",
        "  print(\"Pago de horas extra Dobles: \", pagoDoble)\n",
        "  pagoTriple = extrasTriple * sueldoH * 3\n",
        "  print(\"Pago de horas extra triples: \", pagoTriple)\n",
        "  print(\"Incentivo por trabajar más de 60 horas:$2000\"  )\n",
        "  pagoFinal = pago + pagoDoble + pagoTriple + 2000\n",
        "  print(\"El sueldo final de : \", nombre, \"Es de $\", pagoFinal)\n",
        "  \n",
        "\n",
        "\n",
        "\n"
      ],
      "execution_count": 26,
      "outputs": [
        {
          "output_type": "stream",
          "text": [
            "Ingrese el Nombre del Empleado\n",
            "Angel\n",
            "Cuantas horas trabajo esta semana? Angel :\n",
            "65\n",
            "Cuanto se paga por hora? : \n",
            "200\n",
            "Horas extra dobles 10\n",
            "horas extra triples 10\n",
            "Sueldo Base :$ 8000.0\n",
            "Pago de horas extra Dobles:  4000.0\n",
            "Pago de horas extra triples:  6000.0\n",
            "Incentivo por trabajar más de 60 horas:$2000\n",
            "El sueldo final de :  Angel Es de $ 20000.0\n"
          ],
          "name": "stdout"
        }
      ]
    },
    {
      "cell_type": "code",
      "metadata": {
        "colab": {
          "base_uri": "https://localhost:8080/"
        },
        "id": "EWbLt4_Dn9wQ",
        "outputId": "a132cbb4-881e-4f06-cb77-8f547479bac7"
      },
      "source": [
        "#Estructura For\n",
        "\n",
        "#Ejemplo 1\n",
        "\n",
        "for estaciones_año in [\"primabera\", \"verano\", \"otoño\", \"invierno\"]:  #in palabra reservada, elemento a recorrer\n",
        " print(estaciones_año)\n",
        "\n",
        " #variables que suelen formar parte de FOR son \"i\" "
      ],
      "execution_count": 28,
      "outputs": [
        {
          "output_type": "stream",
          "text": [
            "primabera\n",
            "verano\n",
            "otoño\n",
            "invierno\n"
          ],
          "name": "stdout"
        }
      ]
    }
  ]
}