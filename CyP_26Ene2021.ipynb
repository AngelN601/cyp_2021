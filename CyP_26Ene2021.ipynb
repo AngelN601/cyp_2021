{
  "nbformat": 4,
  "nbformat_minor": 0,
  "metadata": {
    "colab": {
      "name": "CyP_26Ene2021.ipynb",
      "provenance": [],
      "authorship_tag": "ABX9TyPPBpizyiaXsfOZ6Gayz/VT",
      "include_colab_link": true
    },
    "kernelspec": {
      "name": "python3",
      "display_name": "Python 3"
    }
  },
  "cells": [
    {
      "cell_type": "markdown",
      "metadata": {
        "id": "view-in-github",
        "colab_type": "text"
      },
      "source": [
        "<a href=\"https://colab.research.google.com/github/AngelN601/cyp_2021/blob/main/CyP_26Ene2021.ipynb\" target=\"_parent\"><img src=\"https://colab.research.google.com/assets/colab-badge.svg\" alt=\"Open In Colab\"/></a>"
      ]
    },
    {
      "cell_type": "markdown",
      "metadata": {
        "id": "-gZ2VsGwsosW"
      },
      "source": [
        "# Listas de Python 3\r\n",
        "1. Es una estructura de datos lineal de 0 o n elementos.\r\n",
        "2. \"Equivalelente\" a los arreglos.\r\n",
        "3. Pueden ser de diferente tipo de dato. [1, 2, 32, 12] , [1, True, 2.34, \"Hola\" ]\r\n",
        "4. Pueden ser anidados, listas de listas. [\"Melón\", [\"manzana roja\", \"Manzana amarilla\"]\r\n",
        "5. Su selector es de la forma: [ int ]\r\n",
        "6. Son mutables"
      ]
    },
    {
      "cell_type": "code",
      "metadata": {
        "colab": {
          "base_uri": "https://localhost:8080/"
        },
        "id": "HS7amB5usnGn",
        "outputId": "b56175c6-2f7c-41c7-bf6f-3e0a7e7cbd8e"
      },
      "source": [
        "#Ejemplos \r\n",
        "numeros = [4,2,54,7,83,3]\r\n",
        "print(numeros)\r\n",
        "print(numeros[2])\r\n",
        "\r\n",
        "#una lista de 0 elementos\r\n",
        "colores = [] #List()\r\n",
        "type (colores) # Averiguar de que tipo de dato es una variable con la funcion type\r\n",
        "dias = list ()\r\n",
        "print(colores)\r\n",
        "print(dias)"
      ],
      "execution_count": 4,
      "outputs": [
        {
          "output_type": "stream",
          "text": [
            "[4, 2, 54, 7, 83, 3]\n",
            "54\n",
            "[]\n",
            "[]\n"
          ],
          "name": "stdout"
        }
      ]
    },
    {
      "cell_type": "code",
      "metadata": {
        "colab": {
          "base_uri": "https://localhost:8080/"
        },
        "id": "eT5xG84UwQlN",
        "outputId": "ac45584c-2b8c-426d-c3b1-e31e1d4013ec"
      },
      "source": [
        "#Pueden de diferente tipo de datos\r\n",
        "\r\n",
        "mi_lista = [1,2,3,\"José\",False, 1.76, [552345653,44553412432,556677888]  ]\r\n",
        "print(mi_lista)\r\n",
        "print(mi_lista[5])\r\n",
        "print(mi_lista[6][1])\r\n",
        "print(mi_lista[3][3])\r\n",
        "print(mi_lista[3][3::])\r\n",
        "print(mi_lista[3][-1::1])\r\n",
        "mi_lista = [1,2,3,\"José\",False, 1.76, [\"552345653\",\"44553412432\",\"556677888\"]  ]\r\n",
        "print(str(mi_lista[6][1])[2])"
      ],
      "execution_count": 19,
      "outputs": [
        {
          "output_type": "stream",
          "text": [
            "[1, 2, 3, 'José', False, 1.76, [552345653, 44553412432, 556677888]]\n",
            "1.76\n",
            "44553412432\n",
            "é\n",
            "é\n",
            "é\n",
            "5\n"
          ],
          "name": "stdout"
        }
      ]
    },
    {
      "cell_type": "code",
      "metadata": {
        "colab": {
          "base_uri": "https://localhost:8080/"
        },
        "id": "O4CG7c_D0rYO",
        "outputId": "c63c5738-4039-4cae-c0e9-89be4aaaa97e"
      },
      "source": [
        "frutas = [\"melon\",\"sandia\",\"kiwi\",\"aguacate\",\"mango\",\"platano\"]\r\n",
        "print(frutas)\r\n",
        "frutas[0] = \"Melón\"\r\n",
        "print(frutas)\r\n",
        "frutas[1] = frutas[1].capitalize()\r\n",
        "print(frutas)"
      ],
      "execution_count": 23,
      "outputs": [
        {
          "output_type": "stream",
          "text": [
            "['melon', 'sandia', 'kiwi', 'aguacate', 'mango', 'platano']\n",
            "['Melón', 'sandia', 'kiwi', 'aguacate', 'mango', 'platano']\n",
            "['Melón', 'Sandia', 'kiwi', 'aguacate', 'mango', 'platano']\n"
          ],
          "name": "stdout"
        }
      ]
    },
    {
      "cell_type": "code",
      "metadata": {
        "colab": {
          "base_uri": "https://localhost:8080/"
        },
        "id": "Mn-5Z6aR2Eb-",
        "outputId": "16edf248-f233-4172-eb36-c138e5bd8858"
      },
      "source": [
        "# Las listas son clases por lo tanto, tienen métodos.\r\n",
        "# Ejemplo: Append, agrega un elemento al final \r\n",
        "frutas = [\"melon\",\"sandia\",\"kiwi\",\"aguacate\",\"mango\",\"platano\"]\r\n",
        "frutas.append(\"Fresa\")\r\n",
        "print(frutas)\r\n",
        "\r\n",
        "print(\"\\nEjemplo de copias\")\r\n",
        "otras_frutas = frutas.copy()\r\n",
        "print(frutas)\r\n",
        "print(otras_frutas)\r\n",
        "otras_frutas[0]= \"Chico zapote\"\r\n",
        "print(otras_frutas)\r\n",
        "print(frutas)\r\n",
        "print(\"_______\")\r\n",
        "\r\n",
        "print(\"Ejemplo de exted\")\r\n",
        "\r\n",
        "colores=[\"rojo\",\"verde\",\"azul\"]\r\n",
        "frutas.extend(colores)\r\n",
        "print(frutas)\r\n",
        "print(\"_______\")\r\n",
        "\r\n",
        "print(\"Ejemplo insert\")\r\n",
        "print(f\"tamaño de la lista={len(frutas)}\")\r\n",
        "frutas.insert(3,\"Limon\")\r\n",
        "print(f\"tamaño de la lista={len(frutas)}\")\r\n",
        "print(frutas)\r\n",
        "print(\"_______\")\r\n",
        "\r\n",
        "print(\"Ejemplo remove, eliminar el kiwi\")\r\n",
        "frutas.remove(\"kiwi\")\r\n",
        "print(frutas)\r\n",
        "print(\"_______\")\r\n",
        "\r\n",
        "print(\"Ejemplo del\")\r\n",
        "del frutas[2] #Operador de listas\r\n",
        "print(frutas)\r\n",
        "\r\n",
        "frutas.clear()\r\n",
        "print(frutas)"
      ],
      "execution_count": 44,
      "outputs": [
        {
          "output_type": "stream",
          "text": [
            "['melon', 'sandia', 'kiwi', 'aguacate', 'mango', 'platano', 'Fresa']\n",
            "\n",
            "Ejemplo de copias\n",
            "['melon', 'sandia', 'kiwi', 'aguacate', 'mango', 'platano', 'Fresa']\n",
            "['melon', 'sandia', 'kiwi', 'aguacate', 'mango', 'platano', 'Fresa']\n",
            "['Chico zapote', 'sandia', 'kiwi', 'aguacate', 'mango', 'platano', 'Fresa']\n",
            "['melon', 'sandia', 'kiwi', 'aguacate', 'mango', 'platano', 'Fresa']\n",
            "_______\n",
            "Ejemplo de exted\n",
            "['melon', 'sandia', 'kiwi', 'aguacate', 'mango', 'platano', 'Fresa', 'rojo', 'verde', 'azul']\n",
            "_______\n",
            "Ejemplo insert\n",
            "tamaño de la lista=10\n",
            "tamaño de la lista=11\n",
            "['melon', 'sandia', 'kiwi', 'Limon', 'aguacate', 'mango', 'platano', 'Fresa', 'rojo', 'verde', 'azul']\n",
            "_______\n",
            "Ejemplo remove, eliminar el kiwi\n",
            "['melon', 'sandia', 'Limon', 'aguacate', 'mango', 'platano', 'Fresa', 'rojo', 'verde', 'azul']\n",
            "_______\n",
            "Ejemplo del\n",
            "['melon', 'sandia', 'aguacate', 'mango', 'platano', 'Fresa', 'rojo', 'verde', 'azul']\n",
            "[]\n"
          ],
          "name": "stdout"
        }
      ]
    },
    {
      "cell_type": "code",
      "metadata": {
        "colab": {
          "base_uri": "https://localhost:8080/"
        },
        "id": "6EmlDhsH-9Dt",
        "outputId": "1f819afd-36d8-4e54-bf1b-0e0ebc489f23"
      },
      "source": [
        "cosas = [\"jose\",True,2,3,4,5,\"pedro\",1.23]\r\n",
        "indice = 0 \r\n",
        "a_elimitar=[]\r\n",
        "for elemento in cosas:\r\n",
        "\r\n",
        "  if isinstance(elemento, int):\r\n",
        "    print(\"entero\", elemento)\r\n",
        "    a_elimitar.append(elemento)\r\n",
        "  indice += 1\r\n",
        "\r\n",
        "print(a_eliminar)\r\n",
        "for indice in a_elimitar:\r\n",
        "  print(indice)\r\n",
        "  cosas.remove(indice)\r\n",
        "print(cosas)"
      ],
      "execution_count": 57,
      "outputs": [
        {
          "output_type": "stream",
          "text": [
            "entero True\n",
            "entero 2\n",
            "entero 3\n",
            "entero 4\n",
            "entero 5\n",
            "[True, 2, 3, 4, 5]\n",
            "True\n",
            "2\n",
            "3\n",
            "4\n",
            "5\n",
            "['jose', 'pedro', 1.23]\n"
          ],
          "name": "stdout"
        }
      ]
    },
    {
      "cell_type": "code",
      "metadata": {
        "colab": {
          "base_uri": "https://localhost:8080/"
        },
        "id": "oV30tDq3FJFm",
        "outputId": "e874dc7e-4e51-418c-ab78-aa1d49847e4d"
      },
      "source": [
        "#slicing sobre listas\r\n",
        "frutas = [\"melon\",\"sandia\",\"kiwi\",\"aguacate\",\"mango\",\"platano\"]\r\n",
        "\r\n",
        "print(frutas[1:4:])\r\n",
        "\r\n",
        "sistemas_operativos = [\"Windows\",\"mac OS\", \"Linux\", \"Android\"]\r\n",
        "autos = [\"Ford\", \"Mazda\", \"Honda\"]\r\n",
        "\r\n",
        "cosas = [sistemas_operativos, autos]\r\n",
        "print(cosas)\r\n",
        "print(cosas[1])\r\n",
        "print(cosas[0][1])\r\n",
        "print(cosas[0][3][2:5:1])\r\n",
        "print(cosas[1][1][-2:-5:-1])"
      ],
      "execution_count": 79,
      "outputs": [
        {
          "output_type": "stream",
          "text": [
            "['sandia', 'kiwi', 'aguacate']\n",
            "[['Windows', 'mac OS', 'Linux', 'Android'], ['Ford', 'Mazda', 'Honda']]\n",
            "['Ford', 'Mazda', 'Honda']\n",
            "mac OS\n",
            "dro\n",
            "dza\n"
          ],
          "name": "stdout"
        }
      ]
    }
  ]
}