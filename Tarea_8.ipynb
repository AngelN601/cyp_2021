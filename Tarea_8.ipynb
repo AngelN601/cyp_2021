{
  "nbformat": 4,
  "nbformat_minor": 0,
  "metadata": {
    "colab": {
      "name": "Tarea_8.ipynb",
      "provenance": [],
      "authorship_tag": "ABX9TyP2XIAydxXofJFaF8c0Ajp5",
      "include_colab_link": true
    },
    "kernelspec": {
      "name": "python3",
      "display_name": "Python 3"
    }
  },
  "cells": [
    {
      "cell_type": "markdown",
      "metadata": {
        "id": "view-in-github",
        "colab_type": "text"
      },
      "source": [
        "<a href=\"https://colab.research.google.com/github/AngelN601/cyp_2021/blob/main/Tarea_8.ipynb\" target=\"_parent\"><img src=\"https://colab.research.google.com/assets/colab-badge.svg\" alt=\"Open In Colab\"/></a>"
      ]
    },
    {
      "cell_type": "code",
      "metadata": {
        "colab": {
          "base_uri": "https://localhost:8080/"
        },
        "id": "h3TtjbHKj17c",
        "outputId": "43ea881a-824e-49f4-d6ea-7c662df8fd8c"
      },
      "source": [
        "M1 = \"\\u23BE\"\r\n",
        "M2 = \"\\u23CB\"\r\n",
        "M3 = \"\\u23BD\"\r\n",
        "L = \"\\u23B9\"\r\n",
        "M4 = \"\\u23BF\"\r\n",
        "M5 = \"\\u23CC\"\r\n",
        "M6 = \"\\u23BA\"\r\n",
        "C = \"\\u2388\"\r\n",
        "E = \" \"\r\n",
        "print(f\"{M1}{M6*45}{M2}\")\r\n",
        "print(f\"{L}{E*5}{C}{E*9}{C}{E*3}{C}{E*2}{C*4}{E*2}{C*4}{E*2}{C}{E*5}{L}\")\r\n",
        "print(f\"{L}{E*4}{C}{E}{C}{E*8}{C*2}{E*2}{C}{E*2}{C}{E*6}{C}{E*4}{C}{E*5}{L}\")\r\n",
        "print(f\"{L}{E*4}{C}{E}{C}{E*8}{C*2}{E*2}{C}{E*2}{C}{E*6}{C}{E*4}{C}{E*5}{L}\")\r\n",
        "print(f\"{L}{E*3}{C*5}{E*6}{C}{E*2}{C}{E}{C}{E*2}{C}{E}{C*2}{E*2}{C*3}{E*2}{C}{E*5}{L}\")\r\n",
        "print(f\"{L}{E*2}{C}{E*5}{C}{E*4}{C}{E*4}{C*2}{E*2}{C}{E*2}{C}{E*2}{C}{E*5}{C}{E*5}{L}\")\r\n",
        "print(f\"{L}{E*2}{C}{E*5}{C}{E*4}{C}{E*4}{C*2}{E*2}{C}{E*2}{C}{E*2}{C}{E*5}{C}{E*5}{L}\")\r\n",
        "print(f\"{L}{E*2}{C}{E*5}{C}{E*3}{C}{E*6}{C}{E*2}{C*4}{E*2}{C*4}{E*2}{C*4}{E}{L}\")\r\n",
        "print(f\"{M4}{M3*45}{M5}\")"
      ],
      "execution_count": 60,
      "outputs": [
        {
          "output_type": "stream",
          "text": [
            "⎾⎺⎺⎺⎺⎺⎺⎺⎺⎺⎺⎺⎺⎺⎺⎺⎺⎺⎺⎺⎺⎺⎺⎺⎺⎺⎺⎺⎺⎺⎺⎺⎺⎺⎺⎺⎺⎺⎺⎺⎺⎺⎺⎺⎺⎺⏋\n",
            "⎹     ⎈         ⎈   ⎈  ⎈⎈⎈⎈  ⎈⎈⎈⎈  ⎈     ⎹\n",
            "⎹    ⎈ ⎈        ⎈⎈  ⎈  ⎈      ⎈    ⎈     ⎹\n",
            "⎹    ⎈ ⎈        ⎈⎈  ⎈  ⎈      ⎈    ⎈     ⎹\n",
            "⎹   ⎈⎈⎈⎈⎈      ⎈  ⎈ ⎈  ⎈ ⎈⎈  ⎈⎈⎈  ⎈     ⎹\n",
            "⎹  ⎈     ⎈    ⎈    ⎈⎈  ⎈  ⎈  ⎈     ⎈     ⎹\n",
            "⎹  ⎈     ⎈    ⎈    ⎈⎈  ⎈  ⎈  ⎈     ⎈     ⎹\n",
            "⎹  ⎈     ⎈   ⎈      ⎈  ⎈⎈⎈⎈  ⎈⎈⎈⎈  ⎈⎈⎈⎈ ⎹\n",
            "⎿⎽⎽⎽⎽⎽⎽⎽⎽⎽⎽⎽⎽⎽⎽⎽⎽⎽⎽⎽⎽⎽⎽⎽⎽⎽⎽⎽⎽⎽⎽⎽⎽⎽⎽⎽⎽⎽⎽⎽⎽⎽⎽⎽⎽⎽⏌\n"
          ],
          "name": "stdout"
        }
      ]
    }
  ]
}