{
  "nbformat": 4,
  "nbformat_minor": 0,
  "metadata": {
    "colab": {
      "name": "Tarea_4.ipynb",
      "provenance": [],
      "authorship_tag": "ABX9TyMIWABnl6lXk3CFR4gQHPFM",
      "include_colab_link": true
    },
    "kernelspec": {
      "name": "python3",
      "display_name": "Python 3"
    }
  },
  "cells": [
    {
      "cell_type": "markdown",
      "metadata": {
        "id": "view-in-github",
        "colab_type": "text"
      },
      "source": [
        "<a href=\"https://colab.research.google.com/github/AngelN601/cyp_2021/blob/main/Tarea_4.ipynb\" target=\"_parent\"><img src=\"https://colab.research.google.com/assets/colab-badge.svg\" alt=\"Open In Colab\"/></a>"
      ]
    },
    {
      "cell_type": "code",
      "metadata": {
        "colab": {
          "base_uri": "https://localhost:8080/"
        },
        "id": "jQ8l7eHLokHe",
        "outputId": "594b62fa-3ac0-4361-a30a-cbe70f68fb7c"
      },
      "source": [
        "#Ejemplo 2.4\n",
        "\n",
        "\n",
        "SUE = float (input(\"Cual es el sueldo? \"))\n",
        "\n",
        "if (SUE < 1000):\n",
        "  NSUE = SUE * 1.15\n",
        "\n",
        "elif SUE >= 1000:\n",
        "  NSUE = SUE * 1.12\n",
        "\n",
        "print(\"El nuevo sueldo es\", NSUE)\n",
        "\n"
      ],
      "execution_count": 14,
      "outputs": [
        {
          "output_type": "stream",
          "text": [
            "Cual es el sueldo? 1000\n",
            "El nuevo sueldo es 1120.0\n"
          ],
          "name": "stdout"
        }
      ]
    },
    {
      "cell_type": "code",
      "metadata": {
        "colab": {
          "base_uri": "https://localhost:8080/"
        },
        "id": "28r6KKKjt9RC",
        "outputId": "c36613a3-9dbd-4a95-a3b2-d6f655bb5dbc"
      },
      "source": [
        "# Ejemplo 2.8\n",
        "\n",
        "SUE = float (input(\"Cual es el sueldo? \"))\n",
        "CATE = int (input(\"Cual es su categoria?\"))\n",
        "\n",
        "if CATE < 1 or CATE > 4:\n",
        "  print(\"Esa categoria no existe\")\n",
        "\n",
        "elif CATE == 1:\n",
        "  NSUE = SUE * 1.15\n",
        "  print(\"Su sueldo es de \", NSUE, \"por ser categoria\", CATE)\n",
        "\n",
        "elif CATE == 2:\n",
        "  NSUE = SUE * 1.10\n",
        "  print(\"Su sueldo es de \", NSUE, \"por ser categoria\", CATE)\n",
        "\n",
        "elif CATE == 3:\n",
        "  NSUE = SUE * 1.08\n",
        "  print(\"Su sueldo es de \", NSUE, \"por ser categoria\", CATE)\n",
        "\n",
        "elif CATE == 4:\n",
        "  NSUE = SUE * 1.07\n",
        "  print(\"Su sueldo es de \", NSUE, \"por ser categoria\", CATE)\n",
        "\n"
      ],
      "execution_count": 20,
      "outputs": [
        {
          "output_type": "stream",
          "text": [
            "Cual es el sueldo? 4100\n",
            "Cual es su categoria?3\n",
            "Su sueldo es de  4428.0 por ser categoria 3\n"
          ],
          "name": "stdout"
        }
      ]
    }
  ]
}