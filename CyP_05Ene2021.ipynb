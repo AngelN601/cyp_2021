{
  "nbformat": 4,
  "nbformat_minor": 0,
  "metadata": {
    "colab": {
      "name": "CyP_05Ene2021.ipynb",
      "provenance": [],
      "authorship_tag": "ABX9TyN/RpltbyMu59H9BjFywQUy",
      "include_colab_link": true
    },
    "kernelspec": {
      "name": "python3",
      "display_name": "Python 3"
    }
  },
  "cells": [
    {
      "cell_type": "markdown",
      "metadata": {
        "id": "view-in-github",
        "colab_type": "text"
      },
      "source": [
        "<a href=\"https://colab.research.google.com/github/AngelN601/cyp_2021/blob/main/CyP_05Ene2021.ipynb\" target=\"_parent\"><img src=\"https://colab.research.google.com/assets/colab-badge.svg\" alt=\"Open In Colab\"/></a>"
      ]
    },
    {
      "cell_type": "code",
      "metadata": {
        "colab": {
          "base_uri": "https://localhost:8080/"
        },
        "id": "uvJ2oTSGjIbh",
        "outputId": "d1944888-497b-4d6c-eddb-fbda1e596c17"
      },
      "source": [
        "sueldos = [0.0 for x in range (7)]\r\n",
        "print(sueldos)\r\n",
        "sueldos [0] = 12.3\r\n",
        "sueldos [1] = 15.2\r\n",
        "sueldos [2] = 17.6\r\n",
        "sueldos [3] = 1.1\r\n",
        "sueldos [4] = 9.3\r\n",
        "sueldos [5] = 15.9\r\n",
        "sueldos [6] = 11.7\r\n",
        "print(sueldos)\r\n",
        "# Como se asigna valor de el 1.0 al 7.0\r\n",
        "# Con una estructuta for??\r\n",
        "sueldo = [float(x) for x in range(1, 8)]\r\n",
        "sueldo = []\r\n",
        "for i in range(0, 7):\r\n",
        "    sueldo.append(float(i + 1))\r\n",
        "for i in sueldo:\r\n",
        "    print(i)"
      ],
      "execution_count": 8,
      "outputs": [
        {
          "output_type": "stream",
          "text": [
            "[0.0, 0.0, 0.0, 0.0, 0.0, 0.0, 0.0]\n",
            "[12.3, 15.2, 17.6, 1.1, 9.3, 15.9, 11.7]\n",
            "1.0\n",
            "2.0\n",
            "3.0\n",
            "4.0\n",
            "5.0\n",
            "6.0\n",
            "7.0\n"
          ],
          "name": "stdout"
        }
      ]
    },
    {
      "cell_type": "code",
      "metadata": {
        "colab": {
          "base_uri": "https://localhost:8080/"
        },
        "id": "w-9AguKfo0tU",
        "outputId": "934f35f7-2a58-4f32-b149-3e882834e9aa"
      },
      "source": [
        "#Problema 4.1\r\n",
        "MAXIMO = 7\r\n",
        "sueldos = [0.0 for x in range(MAXIMO) ]\r\n",
        "suma = 0.0\r\n",
        "promedio = 0.0\r\n",
        "\r\n",
        "for i in range(MAXIMO):\r\n",
        "  sueldos[i] = float (input(\"Dame el sueldo:\"))\r\n",
        "\r\n",
        "for i in range(7):\r\n",
        "  print(f\"Trabajador {i+1}, gana : {sueldos[i]}\")\r\n",
        "\r\n",
        "for i in range(MAXIMO):\r\n",
        "  suma += sueldos[ i ]\r\n",
        "\r\n",
        "promedio = suma / MAXIMO\r\n",
        "\r\n",
        "print(f\"El promedio de sueldo es $ {promedio}\")\r\n",
        "\r\n",
        "for i in range(MAXIMO):\r\n",
        "  if sueldos[i] > promedio:\r\n",
        "    print(f\"El trabajador {i + 1} tiene un sueldo mayo al promedio\")"
      ],
      "execution_count": 17,
      "outputs": [
        {
          "output_type": "stream",
          "text": [
            "Dame el sueldo:4\n",
            "Dame el sueldo:5\n",
            "Dame el sueldo:4\n",
            "Dame el sueldo:5\n",
            "Dame el sueldo:4\n",
            "Dame el sueldo:5\n",
            "Dame el sueldo:4\n",
            "Trabajador 1, gana : 4.0\n",
            "Trabajador 2, gana : 5.0\n",
            "Trabajador 3, gana : 4.0\n",
            "Trabajador 4, gana : 5.0\n",
            "Trabajador 5, gana : 4.0\n",
            "Trabajador 6, gana : 5.0\n",
            "Trabajador 7, gana : 4.0\n",
            "El promedio de sueldo es $ 4.428571428571429\n",
            "El trabajador 2 tiene un sueldo mayo al promedio\n",
            "El trabajador 4 tiene un sueldo mayo al promedio\n",
            "El trabajador 6 tiene un sueldo mayo al promedio\n"
          ],
          "name": "stdout"
        }
      ]
    },
    {
      "cell_type": "code",
      "metadata": {
        "colab": {
          "base_uri": "https://localhost:8080/"
        },
        "id": "2uKEtlQNuHkx",
        "outputId": "46ce2aae-2878-4319-cd19-d8418cc27f43"
      },
      "source": [
        "\"\"\" Hacer un programa que solicite 5 valores enteros positivos y\r\n",
        "una vez que se compuren por teclado, el programa determine:\r\n",
        "1.-Cual es el mayor\r\n",
        "2.-Cual es el menor\r\n",
        "3.- Cual es el promedio\"\"\"\r\n",
        "Maximo = 5\r\n",
        "valor =  [0.0 for x in range(Maximo)]\r\n",
        "sum = 0.0\r\n",
        "prom = 0.0\r\n",
        "M = 0\r\n",
        "m = 100000000\r\n",
        "\r\n",
        "for i in range(Maximo):\r\n",
        "  valor[i] = int(input(\"Dame un valor entero positivo: \"))\r\n",
        "  if valor[i] > M:\r\n",
        "    M = valor[i]\r\n",
        "  elif valor[i] < m:\r\n",
        "    m = valor[i]\r\n",
        "\r\n",
        "for i in range(Maximo):\r\n",
        "  sum = sum + valor[i]\r\n",
        "\r\n",
        "prom = sum / Maximo\r\n",
        "\r\n",
        "print(f\"El numero mayor es {M}\")\r\n",
        "print(f\"El numero menor es {m}\")\r\n",
        "print(f\"El promedio es {prom}\")"
      ],
      "execution_count": 19,
      "outputs": [
        {
          "output_type": "stream",
          "text": [
            "Dame un valor entero positivo: 10\n",
            "Dame un valor entero positivo: 9\n",
            "Dame un valor entero positivo: 8\n",
            "Dame un valor entero positivo: 7\n",
            "Dame un valor entero positivo: 5\n",
            "El numero mayor es 10\n",
            "El numero menor es 5\n",
            "El promedio es 7.8\n"
          ],
          "name": "stdout"
        }
      ]
    },
    {
      "cell_type": "code",
      "metadata": {
        "colab": {
          "base_uri": "https://localhost:8080/"
        },
        "id": "3A5ycXy7xyRn",
        "outputId": "00a59845-c2ae-4339-b41f-d4879bc51f0f"
      },
      "source": [
        "#Problema 4.1\r\n",
        "N = int (input(\"Ingrese el numero de elementos del arreglo:\"))\r\n",
        "VEC=[]\r\n",
        "if 1<= N and N <= 500:\r\n",
        "  VEC = [0 for x in range(N)]\r\n",
        "  for I in range(N):\r\n",
        "    VEC[I]=int (input(\"Ingrese valor: \" + str(I+1) + \": \"))\r\n",
        "  print(\"Lista de numeros sin repeticiones: \")\r\n",
        "  I = 0\r\n",
        "  while I < 0:\r\n",
        "    print(VEC[I])\r\n",
        "    REPET = VEC[I]\r\n",
        "    while I < N and REPET == VEC [I]:\r\n",
        "      I += 1\r\n",
        "\r\n",
        "\r\n",
        "\r\n",
        "\r\n",
        "else:\r\n",
        "  print(\"El numero de elementos del arreglo es incorrecto\")"
      ],
      "execution_count": 30,
      "outputs": [
        {
          "output_type": "stream",
          "text": [
            "Ingrese el numero de elementos del arreglo:10\n",
            "Ingrese valor: 1: 3\n",
            "Ingrese valor: 2: 3\n",
            "Ingrese valor: 3: 3\n",
            "Ingrese valor: 4: 4\n",
            "Ingrese valor: 5: 5\n",
            "Ingrese valor: 6: 10\n",
            "Ingrese valor: 7: 20\n",
            "Ingrese valor: 8: 20\n",
            "Ingrese valor: 9: 41\n",
            "Ingrese valor: 10: 51\n",
            "Lista de numeros sin repeticiones: \n"
          ],
          "name": "stdout"
        }
      ]
    }
  ]
}