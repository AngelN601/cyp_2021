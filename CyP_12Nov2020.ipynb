{
  "nbformat": 4,
  "nbformat_minor": 0,
  "metadata": {
    "colab": {
      "name": "CyP 12Nov2020.ipynb",
      "provenance": [],
      "authorship_tag": "ABX9TyMnLJSRozkOJdZVdgOnQDur",
      "include_colab_link": true
    },
    "kernelspec": {
      "name": "python3",
      "display_name": "Python 3"
    }
  },
  "cells": [
    {
      "cell_type": "markdown",
      "metadata": {
        "id": "view-in-github",
        "colab_type": "text"
      },
      "source": [
        "<a href=\"https://colab.research.google.com/github/AngelN601/cyp_2021/blob/main/CyP_12Nov2020.ipynb\" target=\"_parent\"><img src=\"https://colab.research.google.com/assets/colab-badge.svg\" alt=\"Open In Colab\"/></a>"
      ]
    },
    {
      "cell_type": "code",
      "metadata": {
        "id": "TAeL-nt5cJQ_",
        "outputId": "3baaef8d-f9ee-4399-b40f-1308be2d8ad9",
        "colab": {
          "base_uri": "https://localhost:8080/"
        }
      },
      "source": [
        "numero= int (input(\"Dame un numero \"))\n",
        "if numero > 0:\n",
        "  print(\"El numero es positivo\")\n",
        "\n",
        "print(\"fin del programa\") "
      ],
      "execution_count": 4,
      "outputs": [
        {
          "output_type": "stream",
          "text": [
            "Dame un numero 6\n",
            "El numero es positivo\n",
            "fin del programa\n"
          ],
          "name": "stdout"
        }
      ]
    },
    {
      "cell_type": "code",
      "metadata": {
        "id": "kTLrV-XSpNar",
        "outputId": "772a9108-7d51-472d-f0ea-8f94a9fcffe5",
        "colab": {
          "base_uri": "https://localhost:8080/"
        }
      },
      "source": [
        "numero= int (input(\"Dame un numero \"))\n",
        "if numero > 0:\n",
        "  print(\"El numero es positivo\")\n",
        "else:\n",
        "  print(\"El numero es negativo\")"
      ],
      "execution_count": 5,
      "outputs": [
        {
          "output_type": "stream",
          "text": [
            "Dame un numero -8\n",
            "El numero es negativo\n"
          ],
          "name": "stdout"
        }
      ]
    },
    {
      "cell_type": "code",
      "metadata": {
        "id": "WefqwWH3fHpm",
        "outputId": "a8ad939c-b9c7-4998-8395-dcb63df308ce",
        "colab": {
          "base_uri": "https://localhost:8080/"
        }
      },
      "source": [
        "numero = int (input(\"Dame un numero \"))\n",
        "if numero > 0:\n",
        "  print(\"El numero es positivo\")\n",
        "elif numero== 0:\n",
        "  print(\"El numero es cero\")\n",
        "else:\n",
        "  print(\"El numero es negativo\")\n"
      ],
      "execution_count": 6,
      "outputs": [
        {
          "output_type": "stream",
          "text": [
            "Dame un numero 0\n",
            "El numero es cero\n"
          ],
          "name": "stdout"
        }
      ]
    }
  ]
}