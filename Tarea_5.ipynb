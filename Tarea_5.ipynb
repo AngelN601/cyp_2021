{
  "nbformat": 4,
  "nbformat_minor": 0,
  "metadata": {
    "colab": {
      "name": "Tarea_5.ipynb",
      "provenance": [],
      "authorship_tag": "ABX9TyP7BjWA89oEQzVDKg7nHC6Z",
      "include_colab_link": true
    },
    "kernelspec": {
      "name": "python3",
      "display_name": "Python 3"
    }
  },
  "cells": [
    {
      "cell_type": "markdown",
      "metadata": {
        "id": "view-in-github",
        "colab_type": "text"
      },
      "source": [
        "<a href=\"https://colab.research.google.com/github/AngelN601/cyp_2021/blob/main/Tarea_5.ipynb\" target=\"_parent\"><img src=\"https://colab.research.google.com/assets/colab-badge.svg\" alt=\"Open In Colab\"/></a>"
      ]
    },
    {
      "cell_type": "code",
      "metadata": {
        "colab": {
          "base_uri": "https://localhost:8080/"
        },
        "id": "-2_1NDpmXFmG",
        "outputId": "b064b95e-945b-43aa-971a-86eed408cbe4"
      },
      "source": [
        "#Ejemplo 3.1\n",
        "\n",
        "SUE1 = float (input(\"Primer sueldo: \"))\n",
        "SUE2 = float (input(\"Segundo sueldo: \"))\n",
        "SUE3 = float (input(\"Tercer sueldo: \"))\n",
        "SUE4 = float (input(\"Cuarto sueldo: \"))\n",
        "SUE5 = float (input(\"Quinto sueldo: \"))\n",
        "SUE6 = float (input(\"Sexto sueldo: \"))\n",
        "SUE7 = float (input(\"Septimo sueldo: \"))\n",
        "SUE8 = float (input(\"Octavo sueldo: \"))\n",
        "SUE9 = float (input(\"Noveno sueldo: \"))\n",
        "SUE10 = float (input(\"Decimo sueldo: \"))\n",
        "\n",
        "Nomina = SUE1 + SUE2 + SUE3 + SUE4 + SUE5 + SUE6 + SUE7 + SUE8 + SUE9 + SUE10\n",
        "\n",
        "print(f\"La nomina fue de:\", Nomina)"
      ],
      "execution_count": 7,
      "outputs": [
        {
          "output_type": "stream",
          "text": [
            "Primer sueldo: 10\n",
            "Segundo sueldo: 20\n",
            "Tercer sueldo: 30\n",
            "Cuarto sueldo: 40\n",
            "Quinto sueldo: 50\n",
            "Sexto sueldo: 40\n",
            "Septimo sueldo: 30\n",
            "Octavo sueldo: 20\n",
            "Noveno sueldo: 10\n",
            "Decimo sueldo: 50\n",
            "La nomina fue de: 300.0\n"
          ],
          "name": "stdout"
        }
      ]
    },
    {
      "cell_type": "code",
      "metadata": {
        "colab": {
          "base_uri": "https://localhost:8080/"
        },
        "id": "L97eZ8efriHo",
        "outputId": "7c1902ce-f395-4fc2-cfd1-ceb092e43f4f"
      },
      "source": [
        "#Ejeplo 3.1 (Estructura repetitiva)\n",
        "\n",
        "nom = 0\n",
        "nomina = 0\n",
        "\n",
        "for i in range(1, 11):\n",
        "   nom = float(input(f\"Ingrese el sueldo {i} \"))\n",
        "\n",
        "   nomina += nom\n",
        "print(f\"La nomina fue de: {nomina}\")"
      ],
      "execution_count": 9,
      "outputs": [
        {
          "output_type": "stream",
          "text": [
            "Ingrese el sueldo 1 10\n",
            "Ingrese el sueldo 2 20\n",
            "Ingrese el sueldo 3 30\n",
            "Ingrese el sueldo 4 40\n",
            "Ingrese el sueldo 5 50\n",
            "Ingrese el sueldo 6 40\n",
            "Ingrese el sueldo 7 30\n",
            "Ingrese el sueldo 8 20\n",
            "Ingrese el sueldo 9 10\n",
            "Ingrese el sueldo 10 50\n",
            "La nomina fue de: 300.0\n"
          ],
          "name": "stdout"
        }
      ]
    },
    {
      "cell_type": "code",
      "metadata": {
        "colab": {
          "base_uri": "https://localhost:8080/"
        },
        "id": "YcmEb8H0uYkZ",
        "outputId": "9ae52e68-45c5-4fa2-a535-44207b402768"
      },
      "source": [
        "#Ejemplo 3.4\n",
        "\n",
        "SUMGAS = 0\n",
        "GASTO = 0\n",
        "\n",
        "while (GASTO > -1) or (GASTO < -1):\n",
        "  GASTO = float (input(f\"Ingrese el Gasto:\"))\n",
        "\n",
        "  SUMGAS += GASTO\n",
        "\n",
        "print(f\"El Gasto total fue de: $ {SUMGAS+1}\")\n",
        "\n"
      ],
      "execution_count": 26,
      "outputs": [
        {
          "output_type": "stream",
          "text": [
            "Ingrese el Gasto:2528\n",
            "Ingrese el Gasto:3500\n",
            "Ingrese el Gasto:1600\n",
            "Ingrese el Gasto:1850\n",
            "Ingrese el Gasto:150\n",
            "Ingrese el Gasto:-1\n",
            "El Gasto total fue de: $ 9628.0\n"
          ],
          "name": "stdout"
        }
      ]
    }
  ]
}