{
  "nbformat": 4,
  "nbformat_minor": 0,
  "metadata": {
    "colab": {
      "name": "Tarea_6.ipynb",
      "provenance": [],
      "authorship_tag": "ABX9TyPeZqcn0mPJKq3UmiVQx+RN",
      "include_colab_link": true
    },
    "kernelspec": {
      "name": "python3",
      "display_name": "Python 3"
    }
  },
  "cells": [
    {
      "cell_type": "markdown",
      "metadata": {
        "id": "view-in-github",
        "colab_type": "text"
      },
      "source": [
        "<a href=\"https://colab.research.google.com/github/AngelN601/cyp_2021/blob/main/Tarea_6.ipynb\" target=\"_parent\"><img src=\"https://colab.research.google.com/assets/colab-badge.svg\" alt=\"Open In Colab\"/></a>"
      ]
    },
    {
      "cell_type": "code",
      "metadata": {
        "colab": {
          "base_uri": "https://localhost:8080/"
        },
        "id": "lT4Z_nf308uR",
        "outputId": "beadde08-bb07-4930-e488-8c2489837249"
      },
      "source": [
        "# Problema 3.3\r\n",
        "\r\n",
        "SERIE = 0\r\n",
        "N = 1\r\n",
        "BAND = True\r\n",
        "I = 1\r\n",
        "\r\n",
        "N = int (input(\"Hasta donde llegara la serie? \"))\r\n",
        "\r\n",
        "while I <= N:\r\n",
        "  if BAND == True:\r\n",
        "    SERIE += 1/I\r\n",
        "    BAND = False\r\n",
        "  else:\r\n",
        "    SERIE -= 1/I\r\n",
        "    BAND = True\r\n",
        "\r\n",
        "  I += 1\r\n",
        "\r\n",
        "print(SERIE)\r\n",
        "\r\n"
      ],
      "execution_count": null,
      "outputs": [
        {
          "output_type": "stream",
          "text": [
            "Hasta donde llegara la serie? 9\n",
            "0.7456349206349207\n"
          ],
          "name": "stdout"
        }
      ]
    },
    {
      "cell_type": "code",
      "metadata": {
        "colab": {
          "base_uri": "https://localhost:8080/"
        },
        "id": "IxOADr-VNTEU",
        "outputId": "d50da4ea-3c3a-4df2-926c-64eaa579445e"
      },
      "source": [
        "# Problema 3.4\r\n",
        "NOM = 0\r\n",
        "SUE = 0\r\n",
        "NSUE = 0\r\n",
        "\r\n",
        "SUE = float (input(\"¿Cual es el sueldo? \"))\r\n",
        "while (SUE != -1):\r\n",
        "  if SUE < 1000:\r\n",
        "    NSUE = SUE * 1.15\r\n",
        "  else:\r\n",
        "    NSUE = SUE * 1.12\r\n",
        "  \r\n",
        "  NOM += NSUE\r\n",
        "  print(f\"El nuevo sueldo es de $\" , NSUE)\r\n",
        "  SUE = float (input(\"¿Cual es otro sueldo? \"))\r\n",
        "\r\n",
        "print(f\"La nomina es de \", NOM)\r\n",
        "\r\n",
        "\r\n"
      ],
      "execution_count": null,
      "outputs": [
        {
          "output_type": "stream",
          "text": [
            "¿Cual es el sueldo? 855\n",
            "El nuevo sueldo es de $ 983.2499999999999\n",
            "¿Cual es otro sueldo? 760.32\n",
            "El nuevo sueldo es de $ 874.3679999999999\n",
            "¿Cual es otro sueldo? 1100.20\n",
            "El nuevo sueldo es de $ 1232.2240000000002\n",
            "¿Cual es otro sueldo? 614\n",
            "El nuevo sueldo es de $ 706.0999999999999\n",
            "¿Cual es otro sueldo? 2600\n",
            "El nuevo sueldo es de $ 2912.0000000000005\n",
            "¿Cual es otro sueldo? 817.50\n",
            "El nuevo sueldo es de $ 940.1249999999999\n",
            "¿Cual es otro sueldo? 1280.30\n",
            "El nuevo sueldo es de $ 1433.9360000000001\n",
            "¿Cual es otro sueldo? 687\n",
            "El nuevo sueldo es de $ 790.05\n",
            "¿Cual es otro sueldo? -1\n",
            "La nomina es de  9872.053\n"
          ],
          "name": "stdout"
        }
      ]
    },
    {
      "cell_type": "code",
      "metadata": {
        "colab": {
          "base_uri": "https://localhost:8080/"
        },
        "id": "ewyO8whGQQqj",
        "outputId": "b71ce3cb-c9ae-4891-cacb-5321220a0c32"
      },
      "source": [
        "#Problema 3.5\r\n",
        "SUMOTR = 0\r\n",
        "SUMPOS = 0\r\n",
        "CUEPOS = 0\r\n",
        "I = 1\r\n",
        "\r\n",
        "N = int (input(\"Numero de Datos a Ingresar: \"))\r\n",
        "while I <= N:\r\n",
        "  NUM = int (input(\"Numero \"))\r\n",
        "\r\n",
        "  if NUM > 0:\r\n",
        "    SUMPOS += NUM\r\n",
        "    CUEPOS += 1\r\n",
        "  else:\r\n",
        "    SUMOTR += NUM\r\n",
        "  I += 1\r\n",
        "\r\n",
        "PROGEN = (SUMPOS + SUMOTR) / N\r\n",
        "PROPOS = (SUMPOS / CUEPOS)\r\n",
        "\r\n",
        "print(f\"Numeros positivos:\", CUEPOS,\", Promedio de los positivos:\", PROPOS, \", Promedio General:\", PROGEN)"
      ],
      "execution_count": null,
      "outputs": [
        {
          "output_type": "stream",
          "text": [
            "Numero de Datos a Ingresar: 20\n",
            "Numero 7\n",
            "Numero 12\n",
            "Numero 0\n",
            "Numero 6\n",
            "Numero 11\n",
            "Numero -3\n",
            "Numero 17\n",
            "Numero 12\n",
            "Numero 19\n",
            "Numero 0\n",
            "Numero 11\n",
            "Numero 4\n",
            "Numero -5\n",
            "Numero -1\n",
            "Numero 0\n",
            "Numero 3\n",
            "Numero 24\n",
            "Numero 0\n",
            "Numero 3\n",
            "Numero -16\n",
            "Numeros positivos: 12 , Promedio de los positivos: 10.75 , Promedio General: 5.2\n"
          ],
          "name": "stdout"
        }
      ]
    },
    {
      "cell_type": "code",
      "metadata": {
        "id": "mJ49hR5IYM_J",
        "colab": {
          "base_uri": "https://localhost:8080/"
        },
        "outputId": "95c5b168-721f-4d14-c5e3-81c2373e2525"
      },
      "source": [
        "#Problema 3.6\r\n",
        "MAY = -100000\r\n",
        "MEN = 100000\r\n",
        "N = int (input(\"Datos que se ingresaran: \" ))\r\n",
        "I = 1\r\n",
        "\r\n",
        "while (I <= N):\r\n",
        "\r\n",
        "  NUM = int (input(\"Numero \"))\r\n",
        "  if NUM > MAY:\r\n",
        "    MAY = NUM\r\n",
        "  else:\r\n",
        "    if NUM < MEN:\r\n",
        "      MEN = NUM\r\n",
        "    \r\n",
        "  I = I + 1\r\n",
        "\r\n",
        "print(f\"Mayor valor:\", MAY,\", Menor Valor:\", MEN)\r\n",
        "  "
      ],
      "execution_count": null,
      "outputs": [
        {
          "output_type": "stream",
          "text": [
            "Datos que se ingresaran: 12\n",
            "Numero 170\n",
            "Numero 44\n",
            "Numero 815\n",
            "Numero 1700\n",
            "Numero 38\n",
            "Numero 140\n",
            "Numero 380\n",
            "Numero 1020\n",
            "Numero 116\n",
            "Numero 14\n",
            "Numero 730\n",
            "Numero 960\n",
            "Mayor valor: 1700 , Menor Valor: 14\n"
          ],
          "name": "stdout"
        }
      ]
    },
    {
      "cell_type": "code",
      "metadata": {
        "colab": {
          "base_uri": "https://localhost:8080/"
        },
        "id": "UmSbSyH1fJjw",
        "outputId": "8f40a789-0204-416e-a891-0154db089841"
      },
      "source": [
        "#Problema 3.7\r\n",
        "MED = 0\r\n",
        "CHI = 0\r\n",
        "GRA = 0\r\n",
        "N = int (input(\"Numero de ventas que ha hecho:\"))\r\n",
        "I = 1\r\n",
        "\r\n",
        "while I <= N:\r\n",
        "  V = float (input(\"Venta: \"))\r\n",
        "  if V <= 200:\r\n",
        "    CHI += 1\r\n",
        "  else:\r\n",
        "    if V < 400:\r\n",
        "      MED += 1\r\n",
        "    else:\r\n",
        "      GRA += 1\r\n",
        "  I += 1\r\n",
        "print(f\"Ventas Chicas:\", CHI, \", Ventas Medianas:\", MED, \", Ventas Grandes:\", GRA)"
      ],
      "execution_count": null,
      "outputs": [
        {
          "output_type": "stream",
          "text": [
            "Numero de ventas que ha hecho:12\n",
            "Venta: 180.25\n",
            "Venta: 470.30\n",
            "Venta: 150.25\n",
            "Venta: 88.60\n",
            "Venta: 230.15\n",
            "Venta: 170.20\n",
            "Venta: 40.30\n",
            "Venta: 201.90\n",
            "Venta: 60.32\n",
            "Venta: 280.30\n",
            "Venta: 15.70\n",
            "Venta: 140.20\n",
            "Ventas Chicas: 8 , Ventas Medianas: 3 , Ventas Grandes: 1\n"
          ],
          "name": "stdout"
        }
      ]
    },
    {
      "cell_type": "code",
      "metadata": {
        "colab": {
          "base_uri": "https://localhost:8080/"
        },
        "id": "4j0hP1Csj7fO",
        "outputId": "ed04933c-7fad-4867-d5ba-ae231c7ae024"
      },
      "source": [
        "#Problema 3.8\r\n",
        "\r\n",
        "NUM = int (input(\"Dame un número positivo \"))\r\n",
        "\r\n",
        "if NUM > 0:\r\n",
        "  while NUM != 1:\r\n",
        "    print(NUM)\r\n",
        "\r\n",
        "    if ((-1) ** NUM) > 0:\r\n",
        "      NUM = NUM / 2\r\n",
        "    else:\r\n",
        "      NUM = (NUM * 3) + 1 \r\n",
        "  \r\n",
        "  print(NUM)\r\n",
        "\r\n",
        "else:\r\n",
        "  print(\"Tu número debe ser positivo\")"
      ],
      "execution_count": null,
      "outputs": [
        {
          "output_type": "stream",
          "text": [
            "Dame un número positivo 25\n",
            "25\n",
            "76\n",
            "38.0\n",
            "19.0\n",
            "58.0\n",
            "29.0\n",
            "88.0\n",
            "44.0\n",
            "22.0\n",
            "11.0\n",
            "34.0\n",
            "17.0\n",
            "52.0\n",
            "26.0\n",
            "13.0\n",
            "40.0\n",
            "20.0\n",
            "10.0\n",
            "5.0\n",
            "16.0\n",
            "8.0\n",
            "4.0\n",
            "2.0\n",
            "1.0\n"
          ],
          "name": "stdout"
        }
      ]
    },
    {
      "cell_type": "code",
      "metadata": {
        "colab": {
          "base_uri": "https://localhost:8080/"
        },
        "id": "lxXc1NI3sFFF",
        "outputId": "709fd307-94a1-40ae-eef2-2efceea300f1"
      },
      "source": [
        "#Problema 3.9\r\n",
        "SERIE = 0\r\n",
        "N = int (input(\"Número de Terminos de la serie \"))\r\n",
        "I = 1\r\n",
        "\r\n",
        "while I <= N:\r\n",
        "  SERIE += I ** I\r\n",
        "  I = I + 1\r\n",
        "\r\n",
        "print(SERIE)"
      ],
      "execution_count": null,
      "outputs": [
        {
          "output_type": "stream",
          "text": [
            "Número de Terminos de la serie 8\n",
            "17650828\n"
          ],
          "name": "stdout"
        }
      ]
    },
    {
      "cell_type": "code",
      "metadata": {
        "colab": {
          "base_uri": "https://localhost:8080/"
        },
        "id": "QSGupXoBtwck",
        "outputId": "9490a35a-2f79-464c-a0a3-e7e0a7d8b659"
      },
      "source": [
        "#Problema 3.10\r\n",
        "PRI = 0\r\n",
        "SEG = 1\r\n",
        "I = 3\r\n",
        "while I <= 180:\r\n",
        "  SIG = PRI + SEG\r\n",
        "  PRI = SEG\r\n",
        "  SEG = SIG \r\n",
        "  I += 1\r\n",
        "print(SIG)"
      ],
      "execution_count": null,
      "outputs": [
        {
          "output_type": "stream",
          "text": [
            "11463113765491467695340528626429782121\n"
          ],
          "name": "stdout"
        }
      ]
    },
    {
      "cell_type": "code",
      "metadata": {
        "colab": {
          "base_uri": "https://localhost:8080/"
        },
        "id": "5czgKRRjvZUb",
        "outputId": "1320cb6d-2d8d-43f5-b2e0-be63ca02ebbe"
      },
      "source": [
        "#Problema 3.11\r\n",
        "CAN1 = 0\r\n",
        "CAN2 = 0\r\n",
        "CAN3 = 0\r\n",
        "CAN4 = 0\r\n",
        "VOTO = int (input(\"Que número tiene su candidato? \"))\r\n",
        "\r\n",
        "while VOTO != 0:\r\n",
        "  if VOTO == 1:\r\n",
        "    CAN1 += 1\r\n",
        "  if VOTO == 2:\r\n",
        "    CAN2 += 1\r\n",
        "  if VOTO == 3:\r\n",
        "    CAN3 += 1\r\n",
        "  if VOTO ==4:\r\n",
        "    CAN4 += 1\r\n",
        "  VOTO = int (input(\"Que número tiene su candidato? \"))\r\n",
        "\r\n",
        "SUMV = CAN1 + CAN2 + CAN3 + CAN4\r\n",
        "POR1 = (CAN1/SUMV)*100\r\n",
        "POR2 = (CAN2/SUMV)*100\r\n",
        "POR3 = (CAN3/SUMV)*100\r\n",
        "POR4 = (CAN4/SUMV)*100\r\n",
        "\r\n",
        "print(f\"Votos del Candidato 1:\", CAN1, \"Porcentaje:\", POR1, \"\\nVotos del Candidato 2:\", CAN2, \"Porcentaje:\", POR2, \"\\nVotos del Candidato 3:\", CAN3, \"Porcentaje:\", POR3, \"\\nVotos del Candidato 4:\", CAN4, \"Porcentaje:\", POR4, \"\\nVotos en Total\", SUMV)"
      ],
      "execution_count": null,
      "outputs": [
        {
          "output_type": "stream",
          "text": [
            "Que número tiene su candidato? 1\n",
            "Que número tiene su candidato? 1\n",
            "Que número tiene su candidato? 2\n",
            "Que número tiene su candidato? 1\n",
            "Que número tiene su candidato? 3\n",
            "Que número tiene su candidato? 1\n",
            "Que número tiene su candidato? 1\n",
            "Que número tiene su candidato? 2\n",
            "Que número tiene su candidato? 4\n",
            "Que número tiene su candidato? 4\n",
            "Que número tiene su candidato? 3\n",
            "Que número tiene su candidato? 1\n",
            "Que número tiene su candidato? 1\n",
            "Que número tiene su candidato? 2\n",
            "Que número tiene su candidato? 3\n",
            "Que número tiene su candidato? 1\n",
            "Que número tiene su candidato? 4\n",
            "Que número tiene su candidato? 1\n",
            "Que número tiene su candidato? 2\n",
            "Que número tiene su candidato? 1\n",
            "Que número tiene su candidato? 2\n",
            "Que número tiene su candidato? 4\n",
            "Que número tiene su candidato? 4\n",
            "Que número tiene su candidato? 2\n",
            "Que número tiene su candidato? 1\n",
            "Que número tiene su candidato? 0\n",
            "Votos del Candidato 1: 11 Porcentaje: 44.0 \n",
            "Votos del Candidato 2: 6 Porcentaje: 24.0 \n",
            "Votos del Candidato 3: 3 Porcentaje: 12.0 \n",
            "Votos del Candidato 4: 5 Porcentaje: 20.0 \n",
            "Votos en Total 25\n"
          ],
          "name": "stdout"
        }
      ]
    },
    {
      "cell_type": "code",
      "metadata": {
        "colab": {
          "base_uri": "https://localhost:8080/"
        },
        "id": "WJz83v5R2xnq",
        "outputId": "170809cd-d4c4-440f-842f-562e9b88b0e1"
      },
      "source": [
        "#Problema 3.12\r\n",
        "MASUE = 0\r\n",
        "N = int (input(\"Número de empleados: \"))\r\n",
        "I = 1\r\n",
        "\r\n",
        "while I<= N:\r\n",
        "  NUMEMP= int (input(\"Número de empleado: \"))\r\n",
        "  SUE = float (input(\"Sueldo del empleado: \"))\r\n",
        "  if SUE > MASUE:\r\n",
        "    MASUE = SUE \r\n",
        "    MANUM = NUMEMP\r\n",
        "  I += 1\r\n",
        "\r\n",
        "print(f\"Número del empleado con mayor sueldo:\", MANUM,\"\\nMayor sueldo: $\", MASUE)"
      ],
      "execution_count": null,
      "outputs": [
        {
          "output_type": "stream",
          "text": [
            "Número de empleados: 6\n",
            "Número de empleado: 1235\n",
            "Sueldo del empleado: 2580\n",
            "Número de empleado: 1260\n",
            "Sueldo del empleado: 1400\n",
            "Número de empleado: 1325\n",
            "Sueldo del empleado: 3600\n",
            "Número de empleado: 1418\n",
            "Sueldo del empleado: 2720\n",
            "Número de empleado: 1650\n",
            "Sueldo del empleado: 4120\n",
            "Número de empleado: 1717\n",
            "Sueldo del empleado: 1950\n",
            "Número del empleado con mayor sueldo: 1650 \n",
            "Mayor sueldo: $ 4120.0\n"
          ],
          "name": "stdout"
        }
      ]
    },
    {
      "cell_type": "code",
      "metadata": {
        "colab": {
          "base_uri": "https://localhost:8080/"
        },
        "id": "ndkPZjhQAWvy",
        "outputId": "a226cfb0-6133-4372-ffd7-d8b34d9b9cd7"
      },
      "source": [
        "#Problema 3.13\r\n",
        "ARSU = 0\r\n",
        "ARNO = 0\r\n",
        "MERSU = 50000\r\n",
        "ARCE = 0\r\n",
        "I = 1\r\n",
        "\r\n",
        "while I <= 12:\r\n",
        "  RNO = float (input(\"Lluvia caída en la región norte en el mes \"))\r\n",
        "  RCE = float (input(\"Lluvia caída en la región centro en el mes \"))\r\n",
        "  RSU = float (input(\"Lluvia caída en la regíon sur en el mes \"))\r\n",
        "\r\n",
        "  ARNO += RNO\r\n",
        "  ARCE += RCE\r\n",
        "  ARSU += RSU\r\n",
        "\r\n",
        "  if RSU < MERSU:\r\n",
        "    MERSU = RSU \r\n",
        "    MES = I\r\n",
        "  I += 1\r\n",
        "\r\n",
        "PRORCE = ARCE / 12\r\n",
        "print(f\"Promedio region centro:\", PRORCE, \"Mes con menor lluvia region sur:\", MES, \"Menor registro del mes regíon del sur:\", MERSU, )\r\n",
        "\r\n",
        "if ARNO > ARCE:\r\n",
        "  if ARNO > ARSU:\r\n",
        "    print(\"La region con mayor lluvia es la Region Norte\")\r\n",
        "  else:\r\n",
        "    print(\"La region con mayor lluvia es la Region Sur\")\r\n",
        "else:\r\n",
        "  if ARCE > ARSU:\r\n",
        "    print(\"La regioncon mayor lluvia es la Region Centro\")\r\n",
        "  else:\r\n",
        "    print(\"La region con mayor lluvia es la Region Sur\")\r\n",
        "\r\n",
        "\r\n"
      ],
      "execution_count": null,
      "outputs": [
        {
          "output_type": "stream",
          "text": [
            "Lluvia caída en la región norte en el mes 80\n",
            "Lluvia caída en la región centro en el mes 70\n",
            "Lluvia caída en la regíon sur en el mes 170\n",
            "Lluvia caída en la región norte en el mes 60\n",
            "Lluvia caída en la región centro en el mes 85\n",
            "Lluvia caída en la regíon sur en el mes 100\n",
            "Lluvia caída en la región norte en el mes 120\n",
            "Lluvia caída en la región centro en el mes 100\n",
            "Lluvia caída en la regíon sur en el mes 185\n",
            "Lluvia caída en la región norte en el mes 100\n",
            "Lluvia caída en la región centro en el mes 90\n",
            "Lluvia caída en la regíon sur en el mes 88\n",
            "Lluvia caída en la región norte en el mes 70\n",
            "Lluvia caída en la región centro en el mes 82\n",
            "Lluvia caída en la regíon sur en el mes 80\n",
            "Lluvia caída en la región norte en el mes 150\n",
            "Lluvia caída en la región centro en el mes 130\n",
            "Lluvia caída en la regíon sur en el mes 122\n",
            "Lluvia caída en la región norte en el mes 100\n",
            "Lluvia caída en la región centro en el mes 95\n",
            "Lluvia caída en la regíon sur en el mes 67\n",
            "Lluvia caída en la región norte en el mes 47\n",
            "Lluvia caída en la región centro en el mes 38\n",
            "Lluvia caída en la regíon sur en el mes 55\n",
            "Lluvia caída en la región norte en el mes 95\n",
            "Lluvia caída en la región centro en el mes 115\n",
            "Lluvia caída en la regíon sur en el mes 110\n",
            "Lluvia caída en la región norte en el mes 70\n",
            "Lluvia caída en la región centro en el mes 62\n",
            "Lluvia caída en la regíon sur en el mes 83\n",
            "Lluvia caída en la región norte en el mes 100\n",
            "Lluvia caída en la región centro en el mes 87\n",
            "Lluvia caída en la regíon sur en el mes 107\n",
            "Lluvia caída en la región norte en el mes 130\n",
            "Lluvia caída en la región centro en el mes 103\n",
            "Lluvia caída en la regíon sur en el mes 148\n",
            "Promedio region centro: 88.08333333333333 Mes con menor lluvia region sur: 8 Menor registro del mes regíon del sur: 55.0\n",
            "La region con mayor lluvia es la Region Sur\n"
          ],
          "name": "stdout"
        }
      ]
    },
    {
      "cell_type": "code",
      "metadata": {
        "id": "lRuSIbbghB3q",
        "colab": {
          "base_uri": "https://localhost:8080/"
        },
        "outputId": "92779dd8-869a-4b2d-afb9-b04e6f029960"
      },
      "source": [
        "#Problema 3.14\r\n",
        "AP1 = 0\r\n",
        "AP2 = 0\r\n",
        "AP3 = 0\r\n",
        "AP4 = 0\r\n",
        "AP5 = 0\r\n",
        "RECAU = 0\r\n",
        "P1 = float (input(\"Primer precio: \"))\r\n",
        "P2 = float (input(\"Segundo precio: \"))\r\n",
        "P3 = float (input(\"Tercer precio: \"))\r\n",
        "P4 = float (input(\"Cuarto precio: \"))\r\n",
        "P5 = float (input(\"Quinto precio: \"))\r\n",
        "CLAVE = int (input(\"\\nClave: \"))\r\n",
        "CANT = int (input(\"Cantidad de boletos vendidos: \"))\r\n",
        "while CLAVE != -1 and CANT != -1:\r\n",
        "   if CLAVE == 1:\r\n",
        "     PRE = P1 * CANT\r\n",
        "     AP1 += CANT\r\n",
        "   if CLAVE == 2:\r\n",
        "      PRE = P2 * CANT\r\n",
        "      AP2 += CANT\r\n",
        "   if CLAVE == 3:\r\n",
        "      PRE = P3 * CANT\r\n",
        "      AP3 += CANT\r\n",
        "   if CLAVE == 4:\r\n",
        "      PRE = P4 * CANT\r\n",
        "      AP4 += CANT\r\n",
        "   if CLAVE == 5:\r\n",
        "      PRE = P5 * CANT\r\n",
        "      AP5 += CANT\r\n",
        "   print(f\"Clave:\", CLAVE, \"Cantidad:\", CANT,\"Total vendido: $\", PRE)\r\n",
        "   RECAU += PRE\r\n",
        "   CLAVE = int (input(\"\\nClave: \"))\r\n",
        "   CANT = int (input(\"Cantidad de boletos vendidos de un tipo: \"))\r\n",
        "print(f\"__________________________________\")\r\n",
        "print(f\"Cantidad de boletos Tipo 1: \", AP1)\r\n",
        "print(f\"Cantidad de boletos Tipo 2: \", AP2)\r\n",
        "print(f\"Cantidad de boletos Tipo 3: \", AP3)\r\n",
        "print(f\"Cantidad de boletos Tipo 4: \", AP4)\r\n",
        "print(f\"Cantidad de boletos Tipo 5: \", AP5)\r\n",
        "print(f\"Recaudacion del Estado: $\", RECAU)"
      ],
      "execution_count": 13,
      "outputs": [
        {
          "output_type": "stream",
          "text": [
            "Primer precio: 7.25\n",
            "Segundo precio: 15.80\n",
            "Tercer precio: 25.00\n",
            "Cuarto precio: 50.00\n",
            "Quinto precio: 75.00\n",
            "\n",
            "Clave: 2\n",
            "Cantidad de boletos vendidos: 3\n",
            "Clave: 2 Cantidad: 3 Total vendido: $ 47.400000000000006\n",
            "\n",
            "Clave: 3\n",
            "Cantidad de boletos vendidos de un tipo: 8\n",
            "Clave: 3 Cantidad: 8 Total vendido: $ 200.0\n",
            "\n",
            "Clave: 2\n",
            "Cantidad de boletos vendidos de un tipo: 4\n",
            "Clave: 2 Cantidad: 4 Total vendido: $ 63.2\n",
            "\n",
            "Clave: 1\n",
            "Cantidad de boletos vendidos de un tipo: 6\n",
            "Clave: 1 Cantidad: 6 Total vendido: $ 43.5\n",
            "\n",
            "Clave: 4\n",
            "Cantidad de boletos vendidos de un tipo: 5\n",
            "Clave: 4 Cantidad: 5 Total vendido: $ 250.0\n",
            "\n",
            "Clave: 1\n",
            "Cantidad de boletos vendidos de un tipo: 12\n",
            "Clave: 1 Cantidad: 12 Total vendido: $ 87.0\n",
            "\n",
            "Clave: 2\n",
            "Cantidad de boletos vendidos de un tipo: 8\n",
            "Clave: 2 Cantidad: 8 Total vendido: $ 126.4\n",
            "\n",
            "Clave: 5\n",
            "Cantidad de boletos vendidos de un tipo: 3\n",
            "Clave: 5 Cantidad: 3 Total vendido: $ 225.0\n",
            "\n",
            "Clave: 2\n",
            "Cantidad de boletos vendidos de un tipo: 7\n",
            "Clave: 2 Cantidad: 7 Total vendido: $ 110.60000000000001\n",
            "\n",
            "Clave: 3\n",
            "Cantidad de boletos vendidos de un tipo: 14\n",
            "Clave: 3 Cantidad: 14 Total vendido: $ 350.0\n",
            "\n",
            "Clave: 4\n",
            "Cantidad de boletos vendidos de un tipo: 1\n",
            "Clave: 4 Cantidad: 1 Total vendido: $ 50.0\n",
            "\n",
            "Clave: 2\n",
            "Cantidad de boletos vendidos de un tipo: 11\n",
            "Clave: 2 Cantidad: 11 Total vendido: $ 173.8\n",
            "\n",
            "Clave: 4\n",
            "Cantidad de boletos vendidos de un tipo: 9\n",
            "Clave: 4 Cantidad: 9 Total vendido: $ 450.0\n",
            "\n",
            "Clave: 5\n",
            "Cantidad de boletos vendidos de un tipo: 7\n",
            "Clave: 5 Cantidad: 7 Total vendido: $ 525.0\n",
            "\n",
            "Clave: 1\n",
            "Cantidad de boletos vendidos de un tipo: 23\n",
            "Clave: 1 Cantidad: 23 Total vendido: $ 166.75\n",
            "\n",
            "Clave: 1\n",
            "Cantidad de boletos vendidos de un tipo: 18\n",
            "Clave: 1 Cantidad: 18 Total vendido: $ 130.5\n",
            "\n",
            "Clave: 3\n",
            "Cantidad de boletos vendidos de un tipo: 4\n",
            "Clave: 3 Cantidad: 4 Total vendido: $ 100.0\n",
            "\n",
            "Clave: -1\n",
            "Cantidad de boletos vendidos de un tipo: -1\n",
            "__________________________________\n",
            "Cantidad de boletos Tipo 1:  59\n",
            "Cantidad de boletos Tipo 2:  33\n",
            "Cantidad de boletos Tipo 3:  26\n",
            "Cantidad de boletos Tipo 4:  15\n",
            "Cantidad de boletos Tipo 5:  10\n",
            "Recaudacion del Estado: $ 3099.1499999999996\n"
          ],
          "name": "stdout"
        }
      ]
    },
    {
      "cell_type": "code",
      "metadata": {
        "colab": {
          "base_uri": "https://localhost:8080/"
        },
        "id": "zwh2hj0ipeng",
        "outputId": "27aa5e45-78f2-46b8-fe5f-d49bd9ddc401"
      },
      "source": [
        "#Problema 3.15\r\n",
        "CL = 0\r\n",
        "CUENTA = 0\r\n",
        "TIPO = (input(\"Tipo de llamada: \"))\r\n",
        "DUR = int (input(\"Duracion(min): \"))\r\n",
        "while TIPO != \"X\" and DUR != -1:\r\n",
        "  if TIPO == \"I\":\r\n",
        "    if DUR > 3:\r\n",
        "      COSTO = 7.59 + (DUR - 3)*3.03\r\n",
        "    else:\r\n",
        "      COSTO = 7.59\r\n",
        "  if TIPO == \"L\":\r\n",
        "    CL += 1\r\n",
        "    if CL > 50:\r\n",
        "      COSTO = 0.60\r\n",
        "    else:\r\n",
        "      COSTO = 0\r\n",
        "  if TIPO == \"N\":\r\n",
        "    if DUR > 3:\r\n",
        "      COSTO = 1.20 + (DUR - 3)*0.48\r\n",
        "\r\n",
        "  CUENTA += COSTO\r\n",
        "  TIPO = (input(\"Tipo de llamada: \"))\r\n",
        "  DUR = int (input(\"Duracion(min): \"))\r\n",
        "print(f\"Cuenta: $\", CUENTA)"
      ],
      "execution_count": 25,
      "outputs": [
        {
          "output_type": "stream",
          "text": [
            "Tipo de llamada: I\n",
            "Duracion(min): 7\n",
            "Tipo de llamada: N\n",
            "Duracion(min): 6\n",
            "Tipo de llamada: N\n",
            "Duracion(min): 12\n",
            "Tipo de llamada: L\n",
            "Duracion(min): 5\n",
            "Tipo de llamada: L\n",
            "Duracion(min): 7\n",
            "Tipo de llamada: L\n",
            "Duracion(min): 15\n",
            "Tipo de llamada: N\n",
            "Duracion(min): 16\n",
            "Tipo de llamada: L\n",
            "Duracion(min): 7\n",
            "Tipo de llamada: L\n",
            "Duracion(min): 6\n",
            "Tipo de llamada: L\n",
            "Duracion(min): 4\n",
            "Tipo de llamada: I\n",
            "Duracion(min): 11\n",
            "Tipo de llamada: X\n",
            "Duracion(min): -1\n",
            "Cuenta: $ 67.14\n"
          ],
          "name": "stdout"
        }
      ]
    },
    {
      "cell_type": "code",
      "metadata": {
        "colab": {
          "base_uri": "https://localhost:8080/"
        },
        "id": "P7B-7E0-w_Lf",
        "outputId": "218bd79c-bce5-4152-fcab-ab6e4c41dc4c"
      },
      "source": [
        "#Problema 3.16\r\n",
        "TIPO1, TIPO2, TIPO3, TIPO4, TIPO5 = 0, 0, 0, 0, 0\r\n",
        "MCTIPO2 = 0\r\n",
        "N = int (input(\"Cuantos años \"))\r\n",
        "I = 1\r\n",
        "\r\n",
        "while I <= N:\r\n",
        "  J = 1\r\n",
        "  TOTVIN = 0\r\n",
        "  while J <= 5:\r\n",
        "    V = float (input(\"Vino= \"))\r\n",
        "    TOTVIN += V\r\n",
        "    if J == 1:\r\n",
        "      TIPO1 += V\r\n",
        "    if J == 2:\r\n",
        "      TIPO2 += V\r\n",
        "      if V > MCTIPO2:\r\n",
        "        MCTIPO2 = V\r\n",
        "        AÑO = I\r\n",
        "    if J == 3:\r\n",
        "      TIPO3 += V\r\n",
        "      if V == 0:\r\n",
        "        print(f\"El año: \", I, \"no se produjo vino tipo 3 \")\r\n",
        "    if J == 4:\r\n",
        "      TIPO4 += V\r\n",
        "    if J == 5:\r\n",
        "      TIPO5 += V\r\n",
        "    J += 1\r\n",
        "  print(f\"Total de litros producidos por año: \", TOTVIN)\r\n",
        "  I += 1\r\n",
        "print(f\"Total Tipo 1: \", TIPO1, \"\\nTotal Tipo 2: \", TIPO2, \"\\nTotal Tipo 3: \", TIPO3, \"\\nTotal Tipo 4: \", TIPO4, \"\\nTotal Tipo 5: \", TIPO5)\r\n",
        "print(f\"Año en que se profujo mayor cantidad de vino tipo 2: \", AÑO, \"Litros: \", MCTIPO2)"
      ],
      "execution_count": 35,
      "outputs": [
        {
          "output_type": "stream",
          "text": [
            "Cuantos años 4\n",
            "Vino= 1\n",
            "Vino= 2\n",
            "Vino= 2\n",
            "Vino= 5\n",
            "Vino= 5\n",
            "Total de litros producidos por año:  15.0\n",
            "Vino= 3\n",
            "Vino= 1\n",
            "Vino= 4\n",
            "Vino= 3\n",
            "Vino= 5\n",
            "Total de litros producidos por año:  16.0\n",
            "Vino= 1\n",
            "Vino= 2\n",
            "Vino= 5\n",
            "Vino= 4\n",
            "Vino= 4\n",
            "Total de litros producidos por año:  16.0\n",
            "Vino= 3\n",
            "Vino= 2\n",
            "Vino= 5\n",
            "Vino= 4\n",
            "Vino= 1\n",
            "Total de litros producidos por año:  15.0\n",
            "Total Tipo 1:  8.0 \n",
            "Total Tipo 2:  7.0 \n",
            "Total Tipo 3:  16.0 \n",
            "Total Tipo 4:  16.0 \n",
            "Total Tipo 5:  15.0\n",
            "Año en que se profujo mayor cantidad de vino tipo 2:  1 Litros:  2.0\n"
          ],
          "name": "stdout"
        }
      ]
    },
    {
      "cell_type": "code",
      "metadata": {
        "colab": {
          "base_uri": "https://localhost:8080/"
        },
        "id": "iA3xDbqX77Ol",
        "outputId": "f03e13a8-798a-4fbd-8b1d-b0eb582e7e28"
      },
      "source": [
        "#Problema 3.17\r\n",
        "I = 3\r\n",
        "SP = 0\r\n",
        "M = int (input(\"Numero Limite: \"))\r\n",
        "if M >= 1:\r\n",
        "  SP += 1\r\n",
        "  print(f\"Numero primo: \", 1)\r\n",
        "  if M >= 2:\r\n",
        "    SP += 1\r\n",
        "    print(\"Numero primo: \", 2)\r\n",
        "while I <= M:\r\n",
        "  BAND = \"V\"\r\n",
        "  J = 3\r\n",
        "  while J < (I // 2) and BAND == \"V\":\r\n",
        "    if (I % J) == 0:\r\n",
        "      BAND = \"F\"\r\n",
        "    J += 2\r\n",
        "  if BAND == \"V\":\r\n",
        "    print(f\"Numero primo: \", I)\r\n",
        "    SP += 1\r\n",
        "  I += 2\r\n",
        "print(f\"Entre 1 y M hay \", SP, \"Numeros primos\")"
      ],
      "execution_count": 48,
      "outputs": [
        {
          "output_type": "stream",
          "text": [
            "Numero Limite: 20\n",
            "Numero primo:  1\n",
            "Numero primo:  2\n",
            "Numero primo:  3\n",
            "Numero primo:  5\n",
            "Numero primo:  7\n",
            "Numero primo:  11\n",
            "Numero primo:  13\n",
            "Numero primo:  17\n",
            "Numero primo:  19\n",
            "Entre 1 y M hay  9 Numeros primos\n"
          ],
          "name": "stdout"
        }
      ]
    },
    {
      "cell_type": "code",
      "metadata": {
        "colab": {
          "base_uri": "https://localhost:8080/"
        },
        "id": "swDlv4jhehig",
        "outputId": "d1eae047-2021-4539-e4fb-ed8ac1783361"
      },
      "source": [
        "#Problema 3.18\r\n",
        "MAYPRO = 0 \r\n",
        "N = int (input(\"Fabricas registradas: \"))\r\n",
        "if N <= 100:\r\n",
        "  I = 1\r\n",
        "  while I <= N:\r\n",
        "    FABRICA = int (input(\"Clave de Fabrica: \"))\r\n",
        "    TOTANU = 0\r\n",
        "    J = 1\r\n",
        "    while J <= 12:\r\n",
        "      MES = float (input(\"Produccion de la fabrica en el mes: \"))\r\n",
        "      TOTANU += MES\r\n",
        "      if J == 7 and MES > 3000000:\r\n",
        "        print(FABRICA)\r\n",
        "      J += 1\r\n",
        "    if TOTANU > MAYPRO:\r\n",
        "      MAYPRO = TOTANU\r\n",
        "      CLAVE = FABRICA\r\n",
        "    print(\"Produccion Anual de la Fabrica: \", FABRICA, \":$\", TOTANU)\r\n",
        "    I += 1\r\n",
        "  print(\"Fabrica que más produjo en el año: \", CLAVE, \"Procuccion: $\", MAYPRO)\r\n",
        "else:\r\n",
        "  print(\"Error en el numero de fabricas\")"
      ],
      "execution_count": 51,
      "outputs": [
        {
          "output_type": "stream",
          "text": [
            "Fabricas registradas: 2\n",
            "Clave de Fabrica: 777\n",
            "Produccion de la fabrica en el mes: 6566\n",
            "Produccion de la fabrica en el mes: 463\n",
            "Produccion de la fabrica en el mes: 465\n",
            "Produccion de la fabrica en el mes: 4686\n",
            "Produccion de la fabrica en el mes: 64663\n",
            "Produccion de la fabrica en el mes: 1586\n",
            "Produccion de la fabrica en el mes: 6841\n",
            "Produccion de la fabrica en el mes: 6841\n",
            "Produccion de la fabrica en el mes: 6889\n",
            "Produccion de la fabrica en el mes: 844\n",
            "Produccion de la fabrica en el mes: 9996\n",
            "Produccion de la fabrica en el mes: 3214\n",
            "Produccion Anual de la Fabrica:  777 :$ 113054.0\n",
            "Clave de Fabrica: 601\n",
            "Produccion de la fabrica en el mes: 1515\n",
            "Produccion de la fabrica en el mes: 54151\n",
            "Produccion de la fabrica en el mes: 5115\n",
            "Produccion de la fabrica en el mes: 23\n",
            "Produccion de la fabrica en el mes: 5151\n",
            "Produccion de la fabrica en el mes: 949\n",
            "Produccion de la fabrica en el mes: 875\n",
            "Produccion de la fabrica en el mes: 3548\n",
            "Produccion de la fabrica en el mes: 1594\n",
            "Produccion de la fabrica en el mes: 3652\n",
            "Produccion de la fabrica en el mes: 9436\n",
            "Produccion de la fabrica en el mes: 1548\n",
            "Produccion Anual de la Fabrica:  601 :$ 87557.0\n",
            "Fabrica que más produjo en el año:  777 Procuccion: $ 113054.0\n"
          ],
          "name": "stdout"
        }
      ]
    },
    {
      "cell_type": "code",
      "metadata": {
        "colab": {
          "base_uri": "https://localhost:8080/"
        },
        "id": "FMx3CZGukhyH",
        "outputId": "2abf08f7-cb2a-4887-f43c-daaabdf303c9"
      },
      "source": [
        "#Problema 3.19\r\n",
        "N = int (input(\"Limite \"))\r\n",
        "I = 1\r\n",
        "while I <= N:\r\n",
        "  SUM = 0\r\n",
        "  J = 1\r\n",
        "  while J <= (I // 2):\r\n",
        "    if (I % J) == 0:\r\n",
        "      SUM += J\r\n",
        "    J += 1\r\n",
        "  if SUM == I:\r\n",
        "    print(f\"El numero\", I, \"es perfecto\")\r\n",
        "  I += 1"
      ],
      "execution_count": 58,
      "outputs": [
        {
          "output_type": "stream",
          "text": [
            "Limite 50\n",
            "El numero 6 es perfecto\n",
            "El numero 28 es perfecto\n"
          ],
          "name": "stdout"
        }
      ]
    }
  ]
}