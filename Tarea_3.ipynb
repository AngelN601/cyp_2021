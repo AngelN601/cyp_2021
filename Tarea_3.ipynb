{
  "nbformat": 4,
  "nbformat_minor": 0,
  "metadata": {
    "colab": {
      "name": "Tarea_3.ipynb",
      "provenance": [],
      "authorship_tag": "ABX9TyOs6XczcDsXtUFkLyMu7tF4",
      "include_colab_link": true
    },
    "kernelspec": {
      "name": "python3",
      "display_name": "Python 3"
    }
  },
  "cells": [
    {
      "cell_type": "markdown",
      "metadata": {
        "id": "view-in-github",
        "colab_type": "text"
      },
      "source": [
        "<a href=\"https://colab.research.google.com/github/AngelN601/cyp_2021/blob/main/Tarea_3.ipynb\" target=\"_parent\"><img src=\"https://colab.research.google.com/assets/colab-badge.svg\" alt=\"Open In Colab\"/></a>"
      ]
    },
    {
      "cell_type": "code",
      "metadata": {
        "colab": {
          "base_uri": "https://localhost:8080/"
        },
        "id": "2RUjaSzaSjZa",
        "outputId": "f511364f-a3ce-4e45-bfcb-822f563c3563"
      },
      "source": [
        "# Problema 1.1\n",
        "PAGO = 0\n",
        "PREPRO = 0\n",
        "CAMBIO = 0\n",
        "\n",
        "PAGO = float (input(\"Dame el precio \"))\n",
        "PREPRO = float (input(\"Cuanto pagas? \"))\n",
        "\n",
        "CAMBIO = (PREPRO - PAGO)\n",
        "\n",
        "print(f\"El cambio es \", CAMBIO)"
      ],
      "execution_count": 7,
      "outputs": [
        {
          "output_type": "stream",
          "text": [
            "Dame el precio 49.20\n",
            "Cuanto pagas? 100\n",
            "El cambio es  50.8\n"
          ],
          "name": "stdout"
        }
      ]
    },
    {
      "cell_type": "code",
      "metadata": {
        "colab": {
          "base_uri": "https://localhost:8080/"
        },
        "id": "39S1bwxchAz8",
        "outputId": "d3f7828d-17fb-42c9-cc1a-340dada79c26"
      },
      "source": [
        "# Problema 1.2\n",
        "BASE = 0\n",
        "ALTU = 0\n",
        "SUP = 0\n",
        "\n",
        "BASE = float (input(\"Dame la base \"))\n",
        "ALTU = float (input(\"Dame la altura \"))\n",
        "\n",
        "SUP = (BASE * ALTU) / 2\n",
        "\n",
        "print(f\"La superficie es \", SUP)"
      ],
      "execution_count": 10,
      "outputs": [
        {
          "output_type": "stream",
          "text": [
            "Dame la base 11.60\n",
            "Dame la altura 7.40\n",
            "La superficie es  42.92\n"
          ],
          "name": "stdout"
        }
      ]
    },
    {
      "cell_type": "code",
      "metadata": {
        "colab": {
          "base_uri": "https://localhost:8080/"
        },
        "id": "PtDxweLQjnrD",
        "outputId": "7e75745c-594e-4ba7-8c00-e3ca2aa40b75"
      },
      "source": [
        "# Problema 1.3\n",
        "NOM = 0\n",
        "PES = 0\n",
        "LON = 0\n",
        "PESKIL = 0\n",
        "LONMET = 0\n",
        "\n",
        "NOM = input(\"¿Cuál es el nombre del Dinosaurio? \")\n",
        "PES = int (input(\"¿Cuál es su peso(lb)? \"))\n",
        "LON = int (input(\"¿Cuál es su longitud(ft)? \"))\n",
        "\n",
        "PESKIL = (PES * 1000)      \n",
        "LONMET = (LON * 0.3047)\n",
        "\n",
        "print(f\"El dinosaurio\", NOM, \"Pesa\", PESKIL, \"Kg y mide \", LONMET, \"m\")"
      ],
      "execution_count": 19,
      "outputs": [
        {
          "output_type": "stream",
          "text": [
            "¿Cuál es el nombre del Dinosaurio? TYRANNOSAURUS\n",
            "¿Cuál es su peso(lb)? 8\n",
            "¿Cuál es su longitud(ft)? 30\n",
            "El dinosaurio TYRANNOSAURUS Pesa 8000 Kg y mide  9.141 m\n"
          ],
          "name": "stdout"
        }
      ]
    },
    {
      "cell_type": "code",
      "metadata": {
        "colab": {
          "base_uri": "https://localhost:8080/"
        },
        "id": "_WNPKYjmMq_G",
        "outputId": "ca2594cf-d86c-49a6-cc51-c50d5ad82970"
      },
      "source": [
        "#Problema 1.4\n",
        "GAL = 0\n",
        "TOTAL = 0\n",
        "\n",
        "GAL = float (input(\"¿Cuantos galones fueron? \"))\n",
        "TOTAL = GAL * 3.785 * 8.20\n",
        "\n",
        "print(f\"$\", TOTAL, \"\")"
      ],
      "execution_count": 23,
      "outputs": [
        {
          "output_type": "stream",
          "text": [
            "¿Cuantos galones fueron? 19.90\n",
            "$ 617.6363 \n"
          ],
          "name": "stdout"
        }
      ]
    },
    {
      "cell_type": "code",
      "metadata": {
        "colab": {
          "base_uri": "https://localhost:8080/"
        },
        "id": "1FNhuf-nefVc",
        "outputId": "531b326f-3019-4e6b-c2f8-36c051a8e72c"
      },
      "source": [
        "#Problema 1.5\n",
        "RAD = 0\n",
        "ALTU = 0\n",
        "VOL = 0\n",
        "AREA = 0\n",
        "PI = 3.141592\n",
        "\n",
        "RAD = float (input(\"¿Cuál es el radio? \"))\n",
        "ALTU = float (input(\"¿Cuál es la altura? \"))\n",
        "VOL = (RAD ** 2) * PI * ALTU\n",
        "AREA = 2 * PI * RAD * ALTU\n",
        "\n",
        "print(f\"EL volumen es\", VOL, \"y el area es\", AREA)"
      ],
      "execution_count": 28,
      "outputs": [
        {
          "output_type": "stream",
          "text": [
            "¿Cuál es el radio? 85.90\n",
            "¿Cuál es la altura? 237.20\n",
            "EL volumen es 5498583.122421345 y el area es 128022.88992832\n"
          ],
          "name": "stdout"
        }
      ]
    },
    {
      "cell_type": "code",
      "metadata": {
        "colab": {
          "base_uri": "https://localhost:8080/"
        },
        "id": "YyPS2IfKh5c1",
        "outputId": "3c729828-ccea-4161-b1ab-37d1e3ed7cdd"
      },
      "source": [
        "#Problema 1.6\n",
        "SEG = 0\n",
        "DIAS = 0\n",
        "\n",
        "DIAS = int (input(\"¿Cuántos dias?\"))\n",
        "SEG = DIAS * 60 * 60 * 24\n",
        "\n",
        "print(f\"Hay\", SEG, \"segundos en\", DIAS, \"dias\")"
      ],
      "execution_count": 31,
      "outputs": [
        {
          "output_type": "stream",
          "text": [
            "¿Cuántos dias?3\n",
            "Hay 259200 segundos en 3 dias\n"
          ],
          "name": "stdout"
        }
      ]
    }
  ]
}