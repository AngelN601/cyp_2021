{
  "nbformat": 4,
  "nbformat_minor": 0,
  "metadata": {
    "colab": {
      "name": "Untitled1.ipynb",
      "provenance": [],
      "authorship_tag": "ABX9TyM+kD25loODdvTX9ng52Vrm",
      "include_colab_link": true
    },
    "kernelspec": {
      "name": "python3",
      "display_name": "Python 3"
    }
  },
  "cells": [
    {
      "cell_type": "markdown",
      "metadata": {
        "id": "view-in-github",
        "colab_type": "text"
      },
      "source": [
        "<a href=\"https://colab.research.google.com/github/AngelN601/cyp_2021/blob/main/Untitled1.ipynb\" target=\"_parent\"><img src=\"https://colab.research.google.com/assets/colab-badge.svg\" alt=\"Open In Colab\"/></a>"
      ]
    },
    {
      "cell_type": "code",
      "metadata": {
        "colab": {
          "base_uri": "https://localhost:8080/"
        },
        "id": "Y2INk8BRS79f",
        "outputId": "e74f1bf7-daeb-4bab-ba78-c026c9c7a0ce"
      },
      "source": [
        "edad = 15\n",
        "estatura = 1.67\n",
        "a = 10\n",
        "b = 3\n",
        "\n",
        "c = 2 ** b\n",
        "\n",
        "print ( c )\n",
        "\n",
        "e = estatura * 2.0\n",
        "print( e )\n",
        "\n",
        "f = a / b #en python se hace el cálculo exacto\n",
        "print (f) # 3.3333\n",
        "\n",
        "#tambien podemos forzar al calculo de enteros\n",
        "g = a // b\n",
        "print ( \"g=\", g)\n",
        "\n",
        "h = a % b\n",
        "print (\"h = \" , h)\n",
        "\n",
        "num = 11\n",
        "print(\"Es par num ? \", (num % 2) == 0 )"
      ],
      "execution_count": 5,
      "outputs": [
        {
          "output_type": "stream",
          "text": [
            "8\n",
            "3.34\n",
            "3.3333333333333335\n",
            "g= 3\n",
            "h =  1\n",
            "Es par num ?  False\n"
          ],
          "name": "stdout"
        }
      ]
    },
    {
      "cell_type": "code",
      "metadata": {
        "colab": {
          "base_uri": "https://localhost:8080/"
        },
        "id": "Hd22d6lzXM9H",
        "outputId": "0e2e6f75-24d5-4923-bdef-9e642f9ffdd4"
      },
      "source": [
        "ecuacion = 9 + 7 * 8 -36 /5  # 9 + 56 - 7.2 -> 65 - 7.2\n",
        "print(ecuacion)\n",
        "\n",
        "ecuacion = (9 + 7) * 8 - 36 / 5 # 128 - 7.2\n",
        "print(ecuacion)\n",
        "\n",
        "ecuacion = 9 + 7 * (8 - 36) / 5\n",
        "print (ecuacion)"
      ],
      "execution_count": 9,
      "outputs": [
        {
          "output_type": "stream",
          "text": [
            "57.8\n",
            "120.8\n",
            "-30.200000000000003\n"
          ],
          "name": "stdout"
        }
      ]
    },
    {
      "cell_type": "code",
      "metadata": {
        "colab": {
          "base_uri": "https://localhost:8080/"
        },
        "id": "ZSjxpa0ab2le",
        "outputId": "2d489709-7497-4315-de07-b29823ba0b69"
      },
      "source": [
        "#Operadores logicos --> True y False\n",
        "x = 5\n",
        "y = 4\n",
        "\n",
        "valor = (x == y)  # Son iguales?? --> Falso\n",
        "print (valor)\n",
        "\n",
        "valor = (x != y) #Son diferentes --> Verdadero\n",
        "print (valor)\n",
        "\n",
        "valor = ( x < y ) # x es menor que y?? False\n",
        "print (valor)\n",
        "\n",
        "\n",
        "valor = ( x > y ) # x es mayor que y?? True\n",
        "print (valor)\n",
        "\n",
        "valor = ( x <= y ) # x es menor o igual que y?? True\n",
        "print (valor)\n",
        "\n",
        "valor = ( x >= y ) # x es mayor o igual que y ?? True\n",
        "print (valor)"
      ],
      "execution_count": 18,
      "outputs": [
        {
          "output_type": "stream",
          "text": [
            "False\n",
            "True\n",
            "False\n",
            "True\n",
            "False\n",
            "True\n"
          ],
          "name": "stdout"
        }
      ]
    },
    {
      "cell_type": "code",
      "metadata": {
        "colab": {
          "base_uri": "https://localhost:8080/"
        },
        "id": "YjsyoABSfn3G",
        "outputId": "0792f2d8-dd84-48fa-dbae-10f95fe2abe0"
      },
      "source": [
        "costo_chetos = 7.0\n",
        "tienda_abierta = True\n",
        "capital_en_bolsa = 10.0\n",
        "\n",
        "se_compra = (costo_chetos < capital_en_bolsa) and (tienda_abierta == True)\n",
        "print(se_compra)"
      ],
      "execution_count": 19,
      "outputs": [
        {
          "output_type": "stream",
          "text": [
            "True\n"
          ],
          "name": "stdout"
        }
      ]
    }
  ]
}