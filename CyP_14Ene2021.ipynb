{
  "nbformat": 4,
  "nbformat_minor": 0,
  "metadata": {
    "colab": {
      "name": "CyP_14Ene2021.ipynb",
      "provenance": [],
      "authorship_tag": "ABX9TyPcB0TDFjWlvfW+H9RyAxOJ",
      "include_colab_link": true
    },
    "kernelspec": {
      "name": "python3",
      "display_name": "Python 3"
    }
  },
  "cells": [
    {
      "cell_type": "markdown",
      "metadata": {
        "id": "view-in-github",
        "colab_type": "text"
      },
      "source": [
        "<a href=\"https://colab.research.google.com/github/AngelN601/cyp_2021/blob/main/CyP_14Ene2021.ipynb\" target=\"_parent\"><img src=\"https://colab.research.google.com/assets/colab-badge.svg\" alt=\"Open In Colab\"/></a>"
      ]
    },
    {
      "cell_type": "markdown",
      "metadata": {
        "id": "1rAKEIYD5Rre"
      },
      "source": [
        "#Palabras reservadas de Python 3\r\n",
        "\r\n"
      ]
    },
    {
      "cell_type": "code",
      "metadata": {
        "colab": {
          "base_uri": "https://localhost:8080/"
        },
        "id": "tjiiZmov5Ydv",
        "outputId": "199b7a59-a740-4c46-ff11-92c7acdefe9e"
      },
      "source": [
        "import keyword\r\n",
        "pr = keyword.kwlist\r\n",
        "print( len(pr))\r\n",
        "for palabra in pr:\r\n",
        "  print(palabra , end=\",\")"
      ],
      "execution_count": 2,
      "outputs": [
        {
          "output_type": "stream",
          "text": [
            "33\n",
            "False,None,True,and,as,assert,break,class,continue,def,del,elif,else,except,finally,for,from,global,if,import,in,is,lambda,nonlocal,not,or,pass,raise,return,try,while,with,yield,"
          ],
          "name": "stdout"
        }
      ]
    },
    {
      "cell_type": "markdown",
      "metadata": {
        "id": "a7TX_HmD63Oo"
      },
      "source": [
        "##Variable \r\n",
        "Es un espacio de memoria de la computadora para alacenar valores que cambian a lo largo de la ejecucion del programa. Este espacio de memoria esta referenciado por un identificador, el cual tiene ciertas reglas de nombrado.\r\n",
        "- No puede iniciar con un número.\r\n",
        "- No debe ser igual a alguna de las palabras reservadas.\r\n",
        "- Puede iniciar con guion bajo\r\n",
        "- Evitar nombres de variables largos.\r\n",
        "- Evitar muy cortos, ejemplo: x, y, i\r\n",
        "- Usar notación snake_case\r\n"
      ]
    },
    {
      "cell_type": "code",
      "metadata": {
        "colab": {
          "base_uri": "https://localhost:8080/"
        },
        "id": "8o5DMYPJ7sPn",
        "outputId": "3fc803bd-a942-49d5-8141-0e473eb09590"
      },
      "source": [
        "_2edad = 12\r\n",
        "print(_2edad)\r\n",
        "\r\n",
        "\"\"\"\r\n",
        "No se puede usar una palabra reservada como identificador de variable, por ejemplo:\r\n",
        "for = 12\r\n",
        "print(for)\r\n",
        "\"\"\"\r\n",
        "cs= 2"
      ],
      "execution_count": 7,
      "outputs": [
        {
          "output_type": "stream",
          "text": [
            "12\n"
          ],
          "name": "stdout"
        }
      ]
    },
    {
      "cell_type": "code",
      "metadata": {
        "id": "uT7F0AIX9CTf"
      },
      "source": [
        "\"\"\"\r\n",
        "La notacion snake_case consta de formar el identificador de variable separando las palabras del mismo con un guion bajo.\r\n",
        "\r\n",
        "Se recomienda que los identificadores se escriban con minusculas, para las constantes en mayúsculas.\r\n",
        "\r\n",
        "Es decir, si tenemos una variable para los días de la semana, se escribiria asi:\r\n",
        "dias_de_la_semana = 7\r\n",
        "dias_mes = 31\r\n",
        "limite_maximo = 100\r\n",
        "\r\n",
        "\"\"\""
      ],
      "execution_count": null,
      "outputs": []
    },
    {
      "cell_type": "markdown",
      "metadata": {
        "id": "L0xLc9pv-BaG"
      },
      "source": [
        "#Tipos de datos\r\n",
        "- Numericos\r\n",
        "\r\n",
        "> - int 4byts (1, 2, 23454, etc.)\r\n",
        "- float 4 bytes (1.14, 3.1416, 1.0)\r\n",
        "- long 8 bytes (1, 2, 23454, etc)\r\n",
        "- complex 3 + 2j (Raices negativas)\r\n",
        "\r\n",
        "\r\n",
        "- Boolean: True o False\r\n",
        "- String cadenas de caracteres (\"cad\", 'cad' o \"\"\"cad\"\"\")\r\n",
        "- Listas ([1, 2, 3, 4]), [a, b, c, d])\r\n",
        "- Tuplas ( (edad,23), (3,4)  )\r\n",
        "- Conjuntos\r\n",
        "- Diccionarios ( {\"nombre\" : \"Juan\"} )\r\n",
        "\r\n",
        "\r\n",
        "\r\n",
        "\r\n",
        "\r\n",
        "\r\n",
        "\r\n",
        "\r\n",
        "\r\n",
        "  \r\n",
        "\r\n"
      ]
    },
    {
      "cell_type": "markdown",
      "metadata": {
        "id": "FdS7c99vEOd9"
      },
      "source": [
        "#Tipo de dato String\r\n",
        "\r\n",
        "Este tipo de dato permite almacenar cadenas de caracteres, como por ejemplo:\r\n",
        "```\r\n",
        "nombre = 'Jesús'\r\n",
        "lugar_nacimiento = \"Mexico D.F., Tacuba\"\r\n",
        "frase_favorita = \"\"\"\r\n",
        "El conocimiento \r\n",
        "me persigue, \r\n",
        "pero...\r\n",
        "yo soy más rápido!!!\r\n",
        ":D\r\n",
        "\"\"\"\r\n",
        "```"
      ]
    },
    {
      "cell_type": "code",
      "metadata": {
        "colab": {
          "base_uri": "https://localhost:8080/"
        },
        "id": "39ThW5SHFGWs",
        "outputId": "d6368119-c6e8-4f39-f2ee-771501357754"
      },
      "source": [
        "nombre = 'Jesús'\r\n",
        "lugar_nacimiento = \"Mexico D.F., Tacuba\"\r\n",
        "frase_favorita = \"\"\"\r\n",
        "El conocimiento \r\n",
        "me persigue, \r\n",
        "pero...\r\n",
        "yo soy más rápido!!!\r\n",
        ":D\r\n",
        "\"\"\"\r\n",
        "print(nombre)\r\n",
        "print(lugar_nacimiento)\r\n",
        "print(frase_favorita)"
      ],
      "execution_count": 8,
      "outputs": [
        {
          "output_type": "stream",
          "text": [
            "Jesús\n",
            "Mexico D.F., Tacuba\n",
            "\n",
            "El conocimiento \n",
            "me persigue, \n",
            "pero...\n",
            "yo soy más rápido!!!\n",
            ":D\n",
            "\n"
          ],
          "name": "stdout"
        }
      ]
    },
    {
      "cell_type": "markdown",
      "metadata": {
        "id": "j6i4giF4FkS1"
      },
      "source": [
        "# Strings como arreglo\r\n",
        "Un string en python es almacenado como el tipo de dato (estructura de datos) arreglo.\r\n",
        "\r\n",
        "Por ejemplo la declaración:\r\n",
        "```\r\n",
        "nombre = 'Jesús'\r\n",
        "```\r\n",
        "El elemento 'J' es almacenado en un arreglo en la posicón 0.\r\n",
        "La 'e' en la 1 y así sucesivamente.\r\n",
        "\r\n",
        "### Selector\r\n",
        "La notacion para seleccionar un elemento del arreglo es:\r\n",
        "```\r\n",
        "[1]\r\n",
        "```\r\n",
        "Donde el valor interno debe ser un valor númerico entero."
      ]
    },
    {
      "cell_type": "code",
      "metadata": {
        "colab": {
          "base_uri": "https://localhost:8080/"
        },
        "id": "d_DX9nOFGIqV",
        "outputId": "83a70951-db87-47e0-b10b-1aa6880a00ac"
      },
      "source": [
        "nombre = 'Jesús'\r\n",
        "print(len(nombre))\r\n",
        "print(nombre)\r\n",
        "print(nombre[3])"
      ],
      "execution_count": 12,
      "outputs": [
        {
          "output_type": "stream",
          "text": [
            "5\n",
            "Jesús\n",
            "ú\n"
          ],
          "name": "stdout"
        }
      ]
    },
    {
      "cell_type": "markdown",
      "metadata": {
        "id": "qwKQBfRsHlTj"
      },
      "source": [
        "#Iterar sobre un String\r\n",
        "\r\n",
        "Se puede iterar sobre un String con un for de la forma:\r\n",
        "```\r\n",
        "for letra in range( len (nombre)  ):\r\n",
        "   print( letra )\r\n",
        "```"
      ]
    },
    {
      "cell_type": "code",
      "metadata": {
        "colab": {
          "base_uri": "https://localhost:8080/"
        },
        "id": "hmMdnIc_Ieq0",
        "outputId": "b54e15cd-a0b3-4924-fa65-109e2182f79f"
      },
      "source": [
        "for indice in range(len(nombre)):#0,1, 2, 3, 4\r\n",
        "  print( indice, end = \" \")\r\n",
        "  print(nombre[indice]) "
      ],
      "execution_count": 13,
      "outputs": [
        {
          "output_type": "stream",
          "text": [
            "0 J\n",
            "1 e\n",
            "2 s\n",
            "3 ú\n",
            "4 s\n"
          ],
          "name": "stdout"
        }
      ]
    },
    {
      "cell_type": "markdown",
      "metadata": {
        "id": "WxYCgjykJ_Kj"
      },
      "source": [
        "#Funcion range(inicio, stop, incremento)\r\n",
        "\r\n",
        "El inicio es opcional y por defecto tiene el valor 0\r\n",
        "\r\n",
        "El incremento tambien es opcional y por defecto es 1"
      ]
    },
    {
      "cell_type": "code",
      "metadata": {
        "colab": {
          "base_uri": "https://localhost:8080/"
        },
        "id": "m2UjK3QLKQvq",
        "outputId": "5bc36c1d-88a6-46cc-be25-6e8f051ba75a"
      },
      "source": [
        "for indice in range(1, len(nombre), 1 ):\r\n",
        "  print(nombre[indice])"
      ],
      "execution_count": 14,
      "outputs": [
        {
          "output_type": "stream",
          "text": [
            "e\n",
            "s\n",
            "ú\n",
            "s\n"
          ],
          "name": "stdout"
        }
      ]
    },
    {
      "cell_type": "code",
      "metadata": {
        "colab": {
          "base_uri": "https://localhost:8080/"
        },
        "id": "4ScZ3nWeK1Qr",
        "outputId": "ed0d90b9-822d-4c28-93b7-98142c268a23"
      },
      "source": [
        "for indice in range(4, -1 ,-1):\r\n",
        "  print(nombre[indice])"
      ],
      "execution_count": 21,
      "outputs": [
        {
          "output_type": "stream",
          "text": [
            "s\n",
            "ú\n",
            "s\n",
            "e\n",
            "J\n"
          ],
          "name": "stdout"
        }
      ]
    },
    {
      "cell_type": "markdown",
      "metadata": {
        "id": "bfra69PRL_x7"
      },
      "source": [
        "#String e indexado negativo\r\n",
        "En python 3 se agrega una nueva característica a los arreglos de las cadenas de caracteres, esta consta de la capacidad de indexar  de forma negativa.\r\n",
        "\r\n",
        "La lógica es la siguiente.\r\n",
        "\r\n",
        "El último elemento se le considera como índice (ALTERNATIVO) -1, con lo cual se podría referenciar el final de la cadena sin la necesidad ed saber el tamaño de la misma\r\n",
        "\r\n",
        "```\r\n",
        "nombre = Angel\r\n",
        "\r\n",
        "indice normal  0  1  2  3  4\r\n",
        "               A  N  G  E  L\r\n",
        "índice alter. -5 -4 -3 -2 -1\r\n",
        "```"
      ]
    },
    {
      "cell_type": "code",
      "metadata": {
        "colab": {
          "base_uri": "https://localhost:8080/"
        },
        "id": "_JbsgnmTMlaD",
        "outputId": "0a0f8293-0c0c-49d9-f0a4-41c8fa73834e"
      },
      "source": [
        "nombre = \"Angel\"\r\n",
        "print(nombre[4])\r\n",
        "print(nombre[-1])\r\n",
        "print(\" \")\r\n",
        "for indice_alter in range(-1, -6, -1):\r\n",
        "  print(nombre[indice_alter])"
      ],
      "execution_count": 24,
      "outputs": [
        {
          "output_type": "stream",
          "text": [
            "l\n",
            "l\n",
            " \n",
            "l\n",
            "e\n",
            "g\n",
            "n\n",
            "A\n"
          ],
          "name": "stdout"
        }
      ]
    },
    {
      "cell_type": "markdown",
      "metadata": {
        "id": "mU7gWDxOP9or"
      },
      "source": [
        "#Slicing de cadenas de caracteres.\r\n",
        "\r\n",
        "Esta caractrística permite sacar secciones de una cadena con la siguiente sintaxis:\r\n",
        "\r\n",
        "```\r\n",
        "[inicio : stop : incremento]\r\n",
        "```\r\n",
        "\r\n",
        "donde inicio e incremento son opcionales y también soportan indexado alternativo(negativos).\r\n",
        "\r\n"
      ]
    },
    {
      "cell_type": "code",
      "metadata": {
        "colab": {
          "base_uri": "https://localhost:8080/"
        },
        "id": "BxMNAD7AQiy5",
        "outputId": "62be7e76-f8f5-49a0-eeb4-be0022b97fbb"
      },
      "source": [
        "facultad = \"Facultad de Estudios Superiosres Aragón (La mejor)\"\r\n",
        "\r\n",
        "print(facultad)\r\n",
        "for indice in range( 12, 20, 1):\r\n",
        "  print(facultad[indice] , end=\"\")\r\n",
        "\r\n",
        "#Hacer esto mismo con la caracteristica Slicing se lográ así:\r\n",
        "print(\"\\nCon Slicing\")\r\n",
        "print(facultad[12:20:1])\r\n",
        "\r\n",
        "# La palabra 'de' con slicing\r\n",
        "\r\n",
        "print(facultad[9:11:1])\r\n",
        "\r\n",
        "#La frase '(La mejor)' con indexado alternativo y slicing\r\n",
        "\r\n",
        "for indice in range(40, 50, 1 ):\r\n",
        "  print(facultad[indice], end=\"\")\r\n",
        "print(\" \")\r\n",
        "print(facultad[40:50:1])"
      ],
      "execution_count": 35,
      "outputs": [
        {
          "output_type": "stream",
          "text": [
            "Facultad de Estudios Superiosres Aragón (La mejor)\n",
            "Estudios\n",
            "Con Slicing\n",
            "Estudios\n",
            "de\n",
            "(La mejor) \n",
            "(La mejor)\n"
          ],
          "name": "stdout"
        }
      ]
    }
  ]
}