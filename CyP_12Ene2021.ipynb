{
  "nbformat": 4,
  "nbformat_minor": 0,
  "metadata": {
    "colab": {
      "name": "CyP_12Ene2021.ipynb",
      "provenance": [],
      "authorship_tag": "ABX9TyO9b5jHuIZrvo1GKAbxTWc/",
      "include_colab_link": true
    },
    "kernelspec": {
      "name": "python3",
      "display_name": "Python 3"
    }
  },
  "cells": [
    {
      "cell_type": "markdown",
      "metadata": {
        "id": "view-in-github",
        "colab_type": "text"
      },
      "source": [
        "<a href=\"https://colab.research.google.com/github/AngelN601/cyp_2021/blob/main/CyP_12Ene2021.ipynb\" target=\"_parent\"><img src=\"https://colab.research.google.com/assets/colab-badge.svg\" alt=\"Open In Colab\"/></a>"
      ]
    },
    {
      "cell_type": "markdown",
      "metadata": {
        "id": "Ay6gXFa5qHJo"
      },
      "source": [
        "#Introcucción a Python\r\n",
        "-Creado en los 90´s por Guido Van R.\r\n",
        "\r\n",
        "-En el 2000 python mejora y tienen nuevas caracteristicas.\r\n",
        "\r\n",
        "-En el 2020 deja de ser la versión oficial python 2.7 y solo se le dará soporte a python 3 en adelante.\r\n",
        "\r\n",
        "## Caracteristicas de Python\r\n",
        "1. Lenguaje de propósito general.\r\n",
        "2. Interpretado y no-compilado\r\n",
        "3. Tipos de datos dinámicos.(numericos, cadena, bool, entre otros).\r\n",
        "4. Multiplataforma.\r\n",
        "5. Lenguaje multi-paradigma. (Imperativa, POO y funcional)\r\n",
        "6. Código es estructurado por identación.\r\n",
        "\r\n",
        "```\r\n",
        "if a > 10:\r\n",
        "  print(Hola)\r\n",
        "print(\":D\")\r\n",
        "```\r\n",
        "\r\n",
        "## Principios Zen de Python \r\n",
        "Son las caracteristicas que guian el diseño del lenguajes de programacion Python"
      ]
    },
    {
      "cell_type": "code",
      "metadata": {
        "colab": {
          "base_uri": "https://localhost:8080/"
        },
        "id": "0zTy4edeuv-f",
        "outputId": "0cbf85fc-e6a6-4625-e916-6332d0addca5"
      },
      "source": [
        "#Primer Programa en Python 3\r\n",
        "\r\n",
        "nombre = \"Jose\"\r\n",
        "edad = 18\r\n",
        "print(\"Hola\", nombre, edad)"
      ],
      "execution_count": 3,
      "outputs": [
        {
          "output_type": "stream",
          "text": [
            "Hola Jose 18\n"
          ],
          "name": "stdout"
        }
      ]
    },
    {
      "cell_type": "markdown",
      "metadata": {
        "id": "cGpoGkdVv8y-"
      },
      "source": [
        "# La función print()\r\n",
        "Es una de las funciones mas empleadas en la programación y busca enviar datos a la salida estandar(monitor).\r\n",
        "\r\n",
        "##Forma de uso\r\n",
        "1. Con comas\r\n",
        "2. Con signos +\r\n",
        "3. .format()\r\n",
        "4. El operador f\"\"\r\n",
        "\r\n",
        "##Con comas\r\n",
        "Concatena los argumentos enviados a print y les agrega un espacio.\r\n",
        "##Con signos +\r\n",
        "Concatena los valores sin espacio y sin hacer conversión de tipos.\r\n",
        "##Con la funcion format()\r\n",
        "Permite darle formato a la salida de la variable impresión de variables. Emplea la función format de el tipo dato String.\r\n",
        "```\r\n",
        "\" cadena {} a {} forma{}tear \" .format(v1,v2,vn)\r\n",
        "```\r\n",
        "\r\n",
        "Emplea como comodines para sustitur valores los signos {}.\r\n",
        "\r\n",
        "##Con operador f\"\r\n",
        "Es una variante de la forma anterior pero enmascarando la funcion format().\r\n",
        "```\r\n",
        "print(f\"Nombre: {nombre} con una edad de: {edad} años.\")\r\n",
        "```"
      ]
    },
    {
      "cell_type": "code",
      "metadata": {
        "colab": {
          "base_uri": "https://localhost:8080/"
        },
        "id": "NLOeVoWIw3-m",
        "outputId": "763f9640-be98-4a45-9f8a-9fe07e014b4d"
      },
      "source": [
        "print(\"Hola\", nombre, edad)\r\n",
        "print(\"Hola \" + nombre + \" \" + str (edad) )\r\n",
        "# Nombre : Jose, con una edad de : 18 años.\r\n",
        "print(\"Nombre:\", nombre, \"con una edad de:\", edad, \"años.\")\r\n",
        "print(\"Nombre: \" + nombre + \" con una edad de: \" + str(edad) + \" años.\")\r\n",
        "#Con format()\r\n",
        "print(\"Nombre: {0} con una edad de: {1} años.\".format(nombre,edad))\r\n",
        "print(f\"Nombre: {nombre} con una edad de: {edad} años.\")"
      ],
      "execution_count": 15,
      "outputs": [
        {
          "output_type": "stream",
          "text": [
            "Hola Jose 18\n",
            "Hola Jose 18\n",
            "Nombre: Jose con una edad de: 18 años.\n",
            "Nombre: Jose con una edad de: 18 años.\n",
            "Nombre: Jose con una edad de: 18 años.\n",
            "Nombre: Jose con una edad de: 18 años.\n"
          ],
          "name": "stdout"
        }
      ]
    },
    {
      "cell_type": "markdown",
      "metadata": {
        "id": "YLskV2Fs2-2s"
      },
      "source": [
        "#Funcion print() y los caracteres de escape\r\n",
        "- \\n salto de linea\r\n",
        "- \\t tabulando\r\n",
        "- \\\\ imprimir la digonal \\\r\n",
        "- \\ ' y \\\"\r\n",
        "- \\uxxxx\r\n",
        "- \\uxxxxxxxx"
      ]
    },
    {
      "cell_type": "code",
      "metadata": {
        "colab": {
          "base_uri": "https://localhost:8080/"
        },
        "id": "BCuyfLN73Mh0",
        "outputId": "77881441-4f47-4fca-98c9-7157b6a7c6f0"
      },
      "source": [
        "print('\"')\r\n",
        "print(\"\\\"\")\r\n",
        "print(\"Nombre: José\\n\\tcon una edad de: 18años.\")\r\n",
        "#Caracter unicode\r\n",
        "\r\n",
        "print(\"hola \\u2664\")"
      ],
      "execution_count": 23,
      "outputs": [
        {
          "output_type": "stream",
          "text": [
            "\"\n",
            "\"\n",
            "Nombre: José\n",
            "\tcon una edad de: 18años.\n",
            "hola ♤\n"
          ],
          "name": "stdout"
        }
      ]
    },
    {
      "cell_type": "markdown",
      "metadata": {
        "id": "8mUWb27O8MP0"
      },
      "source": [
        "##Print y Salto de linea en el argumento\r\n",
        "print([Lista de variables], end=\"\\n\""
      ]
    },
    {
      "cell_type": "code",
      "metadata": {
        "colab": {
          "base_uri": "https://localhost:8080/"
        },
        "id": "71Si7Uqz8u53",
        "outputId": "469d1d66-3eff-4609-ecad-bb57fea1f444"
      },
      "source": [
        "print(\"Hola \" , end=\"\\u13CD\")\r\n",
        "print(\"Mundo \" , end=\"-------- \")\r\n",
        "print(\"Fin\" , end= \"\\n\")"
      ],
      "execution_count": 30,
      "outputs": [
        {
          "output_type": "stream",
          "text": [
            "Hola ᏍMundo -------- Fin\n"
          ],
          "name": "stdout"
        }
      ]
    },
    {
      "cell_type": "markdown",
      "metadata": {
        "id": "VMRFSEZ49iQT"
      },
      "source": [
        "#Comentario en Python\r\n",
        "Un comentario en programación, es un texto especial que es ignorado por el interprete o el compilador(Según sea el caso) y es empleado para que el programador documente sus algoritmos.\r\n",
        "\r\n",
        "Existen de 2 tipos: De línea simple y de múltiple línea.\r\n",
        "\r\n",
        "En Python.\r\n",
        "- Linea simple emplea #\r\n",
        "- Límea multiple\r\n",
        "```\r\n",
        "\"\"\"\r\n",
        "Comentario de linea multiple\r\n",
        "\"\"\"\r\n",
        "```"
      ]
    },
    {
      "cell_type": "code",
      "metadata": {
        "colab": {
          "base_uri": "https://localhost:8080/"
        },
        "id": "untOyfRP-neK",
        "outputId": "8869f7e0-0989-4d5c-d7b6-7ebe48037700"
      },
      "source": [
        "print(\"hola\")\r\n",
        "#print(\"hola\")\r\n",
        "#:D\r\n",
        "print(\"hola\")\r\n",
        "print(\"hola\")\r\n",
        "print(\"hola\") #Esta linea dice hola uwu\r\n",
        "print(\"hola\")\r\n",
        "\"\"\"\r\n",
        "Comentario de multiple linea, ideal para explicar algo a fondo que requiera mayor \r\n",
        "detalle.\r\n",
        "\"\"\"\r\n",
        "print(\"hola\")\r\n",
        "print(\"hola\")"
      ],
      "execution_count": 31,
      "outputs": [
        {
          "output_type": "stream",
          "text": [
            "hola\n",
            "hola\n",
            "hola\n",
            "hola\n",
            "hola\n",
            "hola\n",
            "hola\n"
          ],
          "name": "stdout"
        }
      ]
    }
  ]
}