{
  "nbformat": 4,
  "nbformat_minor": 0,
  "metadata": {
    "colab": {
      "name": "CyP_26Nov2020.ipynb",
      "provenance": [],
      "authorship_tag": "ABX9TyMp8P0Z0g6fu4a7KqlKtxIV",
      "include_colab_link": true
    },
    "kernelspec": {
      "name": "python3",
      "display_name": "Python 3"
    }
  },
  "cells": [
    {
      "cell_type": "markdown",
      "metadata": {
        "id": "view-in-github",
        "colab_type": "text"
      },
      "source": [
        "<a href=\"https://colab.research.google.com/github/AngelN601/cyp_2021/blob/main/CyP_26Nov2020.ipynb\" target=\"_parent\"><img src=\"https://colab.research.google.com/assets/colab-badge.svg\" alt=\"Open In Colab\"/></a>"
      ]
    },
    {
      "cell_type": "code",
      "metadata": {
        "colab": {
          "base_uri": "https://localhost:8080/"
        },
        "id": "k4lTbTDIjc7Y",
        "outputId": "efc97e12-ebda-4b3d-df53-014890e774c4"
      },
      "source": [
        "if (True):\n",
        "  print(\"La condicion se cumple\")\n",
        "\n",
        "print(\"Fin\")"
      ],
      "execution_count": 26,
      "outputs": [
        {
          "output_type": "stream",
          "text": [
            "La condicion se cumple\n",
            "Fin\n"
          ],
          "name": "stdout"
        }
      ]
    },
    {
      "cell_type": "code",
      "metadata": {
        "colab": {
          "base_uri": "https://localhost:8080/"
        },
        "id": "R6aK7bcRl4qD",
        "outputId": "0604c458-d19e-4f0b-8aa3-c89e9ce9dbb8"
      },
      "source": [
        "if (5>3):\n",
        "  print(\"La condicion se cumple\")\n",
        "\n",
        "print(\"No se cumple u.u\")"
      ],
      "execution_count": 27,
      "outputs": [
        {
          "output_type": "stream",
          "text": [
            "La condicion se cumple\n",
            "No se cumple u.u\n"
          ],
          "name": "stdout"
        }
      ]
    },
    {
      "cell_type": "code",
      "metadata": {
        "colab": {
          "base_uri": "https://localhost:8080/"
        },
        "id": "J-_orw7Nmpwd",
        "outputId": "4eec9b52-4fb0-41b3-a4d2-8e079c848270"
      },
      "source": [
        "if (2>3):\n",
        "  print(\"La condicion se cumple\")\n",
        "\n",
        "print(\"No se cumple\")\n"
      ],
      "execution_count": 28,
      "outputs": [
        {
          "output_type": "stream",
          "text": [
            "No se cumple\n"
          ],
          "name": "stdout"
        }
      ]
    },
    {
      "cell_type": "code",
      "metadata": {
        "colab": {
          "base_uri": "https://localhost:8080/"
        },
        "id": "WHVP0EWgo7q1",
        "outputId": "64841218-3240-46ae-ed2e-bc8926aeaa32"
      },
      "source": [
        "#Ejercicio 2.1\n",
        "cal = float (input(\"Cual es tu calificación? \"))\n",
        "\n",
        "if (cal > 8):\n",
        "  print(\"Aprovado\")\n",
        "else:\n",
        "    print(\"Reprobado\")\n"
      ],
      "execution_count": 25,
      "outputs": [
        {
          "output_type": "stream",
          "text": [
            "Cual es tu calificación? 8.35\n",
            "Aprovado\n"
          ],
          "name": "stdout"
        }
      ]
    },
    {
      "cell_type": "code",
      "metadata": {
        "colab": {
          "base_uri": "https://localhost:8080/"
        },
        "id": "37nTYpurr_Dl",
        "outputId": "c5541e3d-8f3c-4df7-9f0d-552d26f1bb24"
      },
      "source": [
        "#Ejemplo 2.2\n",
        "sue = float (input(\"Sueldo: \"))\n",
        "\n",
        "if ( sue < 1000.0 ):\n",
        "  sue += (sue * 0.15)\n",
        "print(f\"Sueldo ahora:\", sue )\n",
        "\n"
      ],
      "execution_count": 41,
      "outputs": [
        {
          "output_type": "stream",
          "text": [
            "Sueldo: 937.80\n",
            "Sueldo ahora: 1078.47\n"
          ],
          "name": "stdout"
        }
      ]
    }
  ]
}